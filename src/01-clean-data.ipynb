{
 "cells": [
  {
   "cell_type": "markdown",
   "metadata": {},
   "source": [
    "# Clean data\n",
    "\n",
    "Imagine we want to measure student achievement and growth in seventh grade. We have data that follow students from sixth to seventh grade and describe their demographic characteristics and exit exam scores in core subjects. This notebook walks through common data cleaning tasks on an example dataset that has been engineered to resemble real data with all their issues. The code cleans the data for analysis."
   ]
  },
  {
   "cell_type": "markdown",
   "metadata": {},
   "source": [
    "## Load libraries\n",
    "\n",
    "The tidyverse is a popular collection of R libraries for data science. Most data wrangling tasks use functions from the dplyr and tidyr packages. For details, features, and examples not covered in these examples, please see the documentation [here](https://www.tidyverse.org/packages/)."
   ]
  },
  {
   "cell_type": "code",
   "execution_count": 1,
   "metadata": {
    "vscode": {
     "languageId": "r"
    }
   },
   "outputs": [
    {
     "name": "stderr",
     "output_type": "stream",
     "text": [
      "\n",
      "Attaching package: 'dplyr'\n",
      "\n",
      "\n",
      "The following objects are masked from 'package:stats':\n",
      "\n",
      "    filter, lag\n",
      "\n",
      "\n",
      "The following objects are masked from 'package:base':\n",
      "\n",
      "    intersect, setdiff, setequal, union\n",
      "\n",
      "\n",
      "\n",
      "Attaching package: 'lubridate'\n",
      "\n",
      "\n",
      "The following objects are masked from 'package:base':\n",
      "\n",
      "    date, intersect, setdiff, union\n",
      "\n",
      "\n",
      "Thank you for using fastDummies!\n",
      "\n",
      "To acknowledge our work, please cite the package:\n",
      "\n",
      "Kaplan, J. & Schlegel, B. (2023). fastDummies: Fast Creation of Dummy (Binary) Columns and Rows from Categorical Variables. Version 1.7.1. URL: https://github.com/jacobkap/fastDummies, https://jacobkap.github.io/fastDummies/.\n",
      "\n"
     ]
    }
   ],
   "source": [
    "# Install packages.\n",
    "req <- c(\"tidyverse\", \"fastDummies\", \"openxlsx\")\n",
    "new <- req[!(req %in% installed.packages()[, \"Package\"])]\n",
    "if (length(new)) install.packages(new)\n",
    "\n",
    "# Load packages.\n",
    "library(dplyr)\n",
    "library(tidyr)\n",
    "library(lubridate)\n",
    "library(ggplot2)\n",
    "library(fastDummies)\n",
    "library(openxlsx)"
   ]
  },
  {
   "cell_type": "markdown",
   "metadata": {},
   "source": [
    "## Read data\n",
    "\n",
    "Keep a simple inventory of the files that the program reads and writes at the top of the script. This will orient anyone who reads the code to its requirements and results. Everything the program needs should be contained in the repository."
   ]
  },
  {
   "cell_type": "code",
   "execution_count": 2,
   "metadata": {
    "vscode": {
     "languageId": "r"
    }
   },
   "outputs": [],
   "source": [
    "# Identify inputs and outputs.\n",
    "PWD <- file.path(getwd(), \"..\")\n",
    "STU <- file.path(PWD, \"in\", \"stu.csv\")\n",
    "SCH <- file.path(PWD, \"in\", \"sch.xlsx\")\n",
    "DTA <- file.path(PWD, \"out\", \"data.rda\")\n",
    "OUT <- file.path(PWD, \"out\", \"data.xlsx\")"
   ]
  },
  {
   "cell_type": "code",
   "execution_count": 3,
   "metadata": {
    "vscode": {
     "languageId": "r"
    }
   },
   "outputs": [
    {
     "data": {
      "text/html": [
       "<table class=\"dataframe\">\n",
       "<caption>A data.frame: 6 × 13</caption>\n",
       "<thead>\n",
       "\t<tr><th></th><th scope=col>sy</th><th scope=col>stuid</th><th scope=col>schid</th><th scope=col>grade</th><th scope=col>dob</th><th scope=col>gender</th><th scope=col>race</th><th scope=col>iep</th><th scope=col>math</th><th scope=col>ela</th><th scope=col>sci</th><th scope=col>soc</th><th scope=col>oss</th></tr>\n",
       "\t<tr><th></th><th scope=col>&lt;int&gt;</th><th scope=col>&lt;int&gt;</th><th scope=col>&lt;chr&gt;</th><th scope=col>&lt;int&gt;</th><th scope=col>&lt;chr&gt;</th><th scope=col>&lt;chr&gt;</th><th scope=col>&lt;chr&gt;</th><th scope=col>&lt;int&gt;</th><th scope=col>&lt;int&gt;</th><th scope=col>&lt;int&gt;</th><th scope=col>&lt;int&gt;</th><th scope=col>&lt;int&gt;</th><th scope=col>&lt;int&gt;</th></tr>\n",
       "</thead>\n",
       "<tbody>\n",
       "\t<tr><th scope=row>1</th><td>2018</td><td>1</td><td>A</td><td>6</td><td>8/5/2007 </td><td>2</td><td>Black   </td><td>1</td><td>63</td><td>60</td><td>57</td><td>62</td><td>0</td></tr>\n",
       "\t<tr><th scope=row>2</th><td>2018</td><td>2</td><td>A</td><td>6</td><td>2/26/2007</td><td>1</td><td>Hispanic</td><td>0</td><td>86</td><td>91</td><td>53</td><td>87</td><td>0</td></tr>\n",
       "\t<tr><th scope=row>3</th><td>2018</td><td>3</td><td>A</td><td>6</td><td>3/13/2007</td><td>1</td><td>Black   </td><td>1</td><td>68</td><td>83</td><td>54</td><td>74</td><td>0</td></tr>\n",
       "\t<tr><th scope=row>4</th><td>2018</td><td>4</td><td>A</td><td>6</td><td>11/7/2006</td><td>2</td><td>White   </td><td>0</td><td>77</td><td>86</td><td>51</td><td>84</td><td>0</td></tr>\n",
       "\t<tr><th scope=row>5</th><td>2018</td><td>5</td><td>A</td><td>6</td><td>4/15/2007</td><td>2</td><td>White   </td><td>0</td><td>89</td><td>95</td><td>57</td><td>93</td><td>0</td></tr>\n",
       "\t<tr><th scope=row>6</th><td>2018</td><td>6</td><td>A</td><td>6</td><td>4/18/2007</td><td>2</td><td>Hispanic</td><td>1</td><td>61</td><td>52</td><td>57</td><td>57</td><td>0</td></tr>\n",
       "</tbody>\n",
       "</table>\n"
      ],
      "text/latex": [
       "A data.frame: 6 × 13\n",
       "\\begin{tabular}{r|lllllllllllll}\n",
       "  & sy & stuid & schid & grade & dob & gender & race & iep & math & ela & sci & soc & oss\\\\\n",
       "  & <int> & <int> & <chr> & <int> & <chr> & <chr> & <chr> & <int> & <int> & <int> & <int> & <int> & <int>\\\\\n",
       "\\hline\n",
       "\t1 & 2018 & 1 & A & 6 & 8/5/2007  & 2 & Black    & 1 & 63 & 60 & 57 & 62 & 0\\\\\n",
       "\t2 & 2018 & 2 & A & 6 & 2/26/2007 & 1 & Hispanic & 0 & 86 & 91 & 53 & 87 & 0\\\\\n",
       "\t3 & 2018 & 3 & A & 6 & 3/13/2007 & 1 & Black    & 1 & 68 & 83 & 54 & 74 & 0\\\\\n",
       "\t4 & 2018 & 4 & A & 6 & 11/7/2006 & 2 & White    & 0 & 77 & 86 & 51 & 84 & 0\\\\\n",
       "\t5 & 2018 & 5 & A & 6 & 4/15/2007 & 2 & White    & 0 & 89 & 95 & 57 & 93 & 0\\\\\n",
       "\t6 & 2018 & 6 & A & 6 & 4/18/2007 & 2 & Hispanic & 1 & 61 & 52 & 57 & 57 & 0\\\\\n",
       "\\end{tabular}\n"
      ],
      "text/markdown": [
       "\n",
       "A data.frame: 6 × 13\n",
       "\n",
       "| <!--/--> | sy &lt;int&gt; | stuid &lt;int&gt; | schid &lt;chr&gt; | grade &lt;int&gt; | dob &lt;chr&gt; | gender &lt;chr&gt; | race &lt;chr&gt; | iep &lt;int&gt; | math &lt;int&gt; | ela &lt;int&gt; | sci &lt;int&gt; | soc &lt;int&gt; | oss &lt;int&gt; |\n",
       "|---|---|---|---|---|---|---|---|---|---|---|---|---|---|\n",
       "| 1 | 2018 | 1 | A | 6 | 8/5/2007  | 2 | Black    | 1 | 63 | 60 | 57 | 62 | 0 |\n",
       "| 2 | 2018 | 2 | A | 6 | 2/26/2007 | 1 | Hispanic | 0 | 86 | 91 | 53 | 87 | 0 |\n",
       "| 3 | 2018 | 3 | A | 6 | 3/13/2007 | 1 | Black    | 1 | 68 | 83 | 54 | 74 | 0 |\n",
       "| 4 | 2018 | 4 | A | 6 | 11/7/2006 | 2 | White    | 0 | 77 | 86 | 51 | 84 | 0 |\n",
       "| 5 | 2018 | 5 | A | 6 | 4/15/2007 | 2 | White    | 0 | 89 | 95 | 57 | 93 | 0 |\n",
       "| 6 | 2018 | 6 | A | 6 | 4/18/2007 | 2 | Hispanic | 1 | 61 | 52 | 57 | 57 | 0 |\n",
       "\n"
      ],
      "text/plain": [
       "  sy   stuid schid grade dob       gender race     iep math ela sci soc oss\n",
       "1 2018 1     A     6     8/5/2007  2      Black    1   63   60  57  62  0  \n",
       "2 2018 2     A     6     2/26/2007 1      Hispanic 0   86   91  53  87  0  \n",
       "3 2018 3     A     6     3/13/2007 1      Black    1   68   83  54  74  0  \n",
       "4 2018 4     A     6     11/7/2006 2      White    0   77   86  51  84  0  \n",
       "5 2018 5     A     6     4/15/2007 2      White    0   89   95  57  93  0  \n",
       "6 2018 6     A     6     4/18/2007 2      Hispanic 1   61   52  57  57  0  "
      ]
     },
     "metadata": {},
     "output_type": "display_data"
    }
   ],
   "source": [
    "# Load and peek at student data.\n",
    "# Need to use the function that corresponds to the file type, e.g. csv.\n",
    "stu <- read.csv(STU)\n",
    "head(stu)"
   ]
  },
  {
   "cell_type": "code",
   "execution_count": 4,
   "metadata": {
    "vscode": {
     "languageId": "r"
    }
   },
   "outputs": [
    {
     "name": "stdout",
     "output_type": "stream",
     "text": [
      "[1] \"Number of rows: 210\"\n",
      "[1] \"Number of columns: 13\"\n"
     ]
    }
   ],
   "source": [
    "# These are some helpful functions for accessing information about the dataset.\n",
    "print(paste(\"Number of rows:\", nrow(stu)))\n",
    "print(paste(\"Number of columns:\", ncol(stu)))"
   ]
  },
  {
   "cell_type": "markdown",
   "metadata": {},
   "source": [
    "## Convert text to numeric data\n",
    "\n",
    "The data describe race using text or \"string\" data, but for math reasons we need to represent the same information numerically. This section shows two ways we can do this: either as a categorical variable or as a set of mutually exclusive indicator variables. It also addresses dates."
   ]
  },
  {
   "cell_type": "code",
   "execution_count": 5,
   "metadata": {
    "vscode": {
     "languageId": "r"
    }
   },
   "outputs": [
    {
     "data": {
      "text/plain": [
       "\n",
       "   Asian    Black Hispanic    White \n",
       "      10       72       47       81 "
      ]
     },
     "metadata": {},
     "output_type": "display_data"
    }
   ],
   "source": [
    "# Race is string data.\n",
    "table(stu$race)\n",
    "\n",
    "# Break if we get unexpected values.\n",
    "# This forces a revisit of the code if the data change.\n",
    "race_vals <- c(\"Asian\", \"Black\", \"Hispanic\", \"White\")\n",
    "stopifnot(all(stu$race %in% race_vals))"
   ]
  },
  {
   "cell_type": "markdown",
   "metadata": {},
   "source": [
    "**Technical note.** The code makes extensive use of the `stopifnot()` function as a defensive programming technique. It takes an expression that must evaluate to `TRUE`, and otherwise throws an error and stops the program. This helps document and verify assumptions of the data."
   ]
  },
  {
   "cell_type": "code",
   "execution_count": 6,
   "metadata": {
    "vscode": {
     "languageId": "r"
    }
   },
   "outputs": [
    {
     "data": {
      "text/plain": [
       "          \n",
       "            1  2  3  4\n",
       "  Asian    10  0  0  0\n",
       "  Black     0 72  0  0\n",
       "  Hispanic  0  0 47  0\n",
       "  White     0  0  0 81"
      ]
     },
     "metadata": {},
     "output_type": "display_data"
    }
   ],
   "source": [
    "# Cast to factor.\n",
    "# Each value is now a labeled integer.\n",
    "stu$race <- as.factor(stu$race)\n",
    "table(stu$race, as.numeric(stu$race))"
   ]
  },
  {
   "cell_type": "code",
   "execution_count": 7,
   "metadata": {
    "vscode": {
     "languageId": "r"
    }
   },
   "outputs": [
    {
     "data": {
      "text/html": [
       "<table class=\"dataframe\">\n",
       "<caption>A tibble: 4 × 5</caption>\n",
       "<thead>\n",
       "\t<tr><th scope=col>race</th><th scope=col>asian</th><th scope=col>black</th><th scope=col>hispanic</th><th scope=col>white</th></tr>\n",
       "\t<tr><th scope=col>&lt;fct&gt;</th><th scope=col>&lt;int&gt;</th><th scope=col>&lt;int&gt;</th><th scope=col>&lt;int&gt;</th><th scope=col>&lt;int&gt;</th></tr>\n",
       "</thead>\n",
       "<tbody>\n",
       "\t<tr><td>Asian   </td><td>10</td><td> 0</td><td> 0</td><td> 0</td></tr>\n",
       "\t<tr><td>Black   </td><td> 0</td><td>72</td><td> 0</td><td> 0</td></tr>\n",
       "\t<tr><td>Hispanic</td><td> 0</td><td> 0</td><td>47</td><td> 0</td></tr>\n",
       "\t<tr><td>White   </td><td> 0</td><td> 0</td><td> 0</td><td>81</td></tr>\n",
       "</tbody>\n",
       "</table>\n"
      ],
      "text/latex": [
       "A tibble: 4 × 5\n",
       "\\begin{tabular}{lllll}\n",
       " race & asian & black & hispanic & white\\\\\n",
       " <fct> & <int> & <int> & <int> & <int>\\\\\n",
       "\\hline\n",
       "\t Asian    & 10 &  0 &  0 &  0\\\\\n",
       "\t Black    &  0 & 72 &  0 &  0\\\\\n",
       "\t Hispanic &  0 &  0 & 47 &  0\\\\\n",
       "\t White    &  0 &  0 &  0 & 81\\\\\n",
       "\\end{tabular}\n"
      ],
      "text/markdown": [
       "\n",
       "A tibble: 4 × 5\n",
       "\n",
       "| race &lt;fct&gt; | asian &lt;int&gt; | black &lt;int&gt; | hispanic &lt;int&gt; | white &lt;int&gt; |\n",
       "|---|---|---|---|---|\n",
       "| Asian    | 10 |  0 |  0 |  0 |\n",
       "| Black    |  0 | 72 |  0 |  0 |\n",
       "| Hispanic |  0 |  0 | 47 |  0 |\n",
       "| White    |  0 |  0 |  0 | 81 |\n",
       "\n"
      ],
      "text/plain": [
       "  race     asian black hispanic white\n",
       "1 Asian    10     0     0        0   \n",
       "2 Black     0    72     0        0   \n",
       "3 Hispanic  0     0    47        0   \n",
       "4 White     0     0     0       81   "
      ]
     },
     "metadata": {},
     "output_type": "display_data"
    }
   ],
   "source": [
    "# Cast to indicators.\n",
    "# Each category now has its own variable.\n",
    "stu <- dummy_cols(stu, \"race\") |>\n",
    "  rename_with(~ tolower(gsub(\"race_\", \"\", .x)))\n",
    "\n",
    "# Check correspondence.\n",
    "# We can use an existing list to let the code adapt to the data.\n",
    "stu |>\n",
    "  group_by(race) |>\n",
    "  summarize(across(tolower(race_vals), sum))"
   ]
  },
  {
   "cell_type": "markdown",
   "metadata": {},
   "source": [
    "**Technical note.** The last example uses the pipe operator \"|>\" to pass (a) the output of the previous function to (b) the input of the next function. This idiom allows chaining of discrete operations into an easily readable sequence of operations."
   ]
  },
  {
   "cell_type": "code",
   "execution_count": 8,
   "metadata": {
    "vscode": {
     "languageId": "r"
    }
   },
   "outputs": [
    {
     "data": {
      "text/plain": [
       "\n",
       " 1/10/2007  1/12/2007  1/13/2007  1/18/2007  1/24/2007  1/28/2007   1/8/2007 \n",
       "         2          2          2          4          5          2          2 \n",
       "10/14/2006 10/16/2006 10/21/2006 10/23/2006 10/28/2006  10/8/2006 11/16/2006 \n",
       "         3          2          3          2          2          2          2 \n",
       " 11/2/2006 11/20/2006 11/28/2006  11/3/2006  11/5/2006  11/7/2006 12/10/2006 \n",
       "         2          4          3          2          2          2          2 \n",
       "12/14/2006 12/30/2006 12/31/2006  12/5/2006  12/6/2006  2/16/2007  2/18/2007 \n",
       "         2          2          2          2          2          3          2 \n",
       " 2/19/2007  2/20/2007  2/21/2007  2/22/2007  2/26/2007  2/27/2007  2/28/2007 \n",
       "         3          2          2          2          2          2          2 \n",
       "  2/5/2007   2/7/2007   3/1/2007  3/10/2007  3/13/2007   3/2/2007  3/28/2007 \n",
       "         2          2          2          2          4          2          2 \n",
       "  3/5/2007   4/1/2007  4/14/2007  4/15/2007  4/16/2007  4/18/2007  4/21/2007 \n",
       "         2          2          2          5          2          2          4 \n",
       " 4/24/2007  4/25/2007  4/28/2007   4/3/2007   4/7/2007   4/9/2007   5/1/2007 \n",
       "         2          2          2          2          2          2          4 \n",
       " 5/16/2007  5/27/2007  5/31/2007   5/8/2007   6/1/2007  6/20/2007  6/21/2007 \n",
       "         2          2          2          4          2          2          2 \n",
       " 6/22/2007  6/26/2007  6/30/2007   6/9/2007  7/10/2007  7/12/2007  7/22/2007 \n",
       "         2          2          2          2          2          2          3 \n",
       " 7/23/2007  7/25/2007  7/28/2007  7/31/2007   7/5/2007   7/6/2007   7/9/2007 \n",
       "         5          2          2          2          4          2          2 \n",
       " 8/12/2007  8/13/2007  8/15/2007  8/18/2007  8/24/2007  8/31/2007   8/4/2007 \n",
       "         2          2          2          2          2          2          3 \n",
       "  8/5/2007  9/14/2006  9/29/2006   9/4/2006   9/6/2006 \n",
       "         4          2          2          2          2 "
      ]
     },
     "metadata": {},
     "output_type": "display_data"
    }
   ],
   "source": [
    "# Date of birth is also string data.\n",
    "table(stu$dob)"
   ]
  },
  {
   "cell_type": "code",
   "execution_count": 9,
   "metadata": {
    "vscode": {
     "languageId": "r"
    }
   },
   "outputs": [],
   "source": [
    "# Cast to date.\n",
    "# Need to use the function that corresponds to the MM/DD/YYYY pattern.\n",
    "stu$dob <- mdy(stu$dob)"
   ]
  },
  {
   "cell_type": "code",
   "execution_count": 10,
   "metadata": {
    "vscode": {
     "languageId": "r"
    }
   },
   "outputs": [
    {
     "data": {
      "image/png": "[encoded data removed]",
      "text/plain": [
       "plot without title"
      ]
     },
     "metadata": {
      "image/png": {
       "height": 420,
       "width": 420
      }
     },
     "output_type": "display_data"
    }
   ],
   "source": [
    "# Plot the distribution of birthdays.\n",
    "# Bin dates into months.\n",
    "stu |>\n",
    "  mutate(mob = floor_date(dob, \"month\")) |>\n",
    "  ggplot(aes(x = mob)) +\n",
    "  geom_bar() +\n",
    "  labs(\n",
    "    title = \"Birthdays\",\n",
    "    x = \"Month of birth\",\n",
    "    y = \"Count\"\n",
    "  ) +\n",
    "  theme_minimal()"
   ]
  },
  {
   "cell_type": "markdown",
   "metadata": {},
   "source": [
    "## Handle missing data\n",
    "\n",
    "The data already describe IEP status and subject test scores using numeric values, but they contain impossible values or zero to mark missingness. Without any cleaning, a statistic of these data would be incorrect. This section shows how we can detect and address this encoding of missingness."
   ]
  },
  {
   "cell_type": "code",
   "execution_count": 11,
   "metadata": {
    "vscode": {
     "languageId": "r"
    }
   },
   "outputs": [
    {
     "data": {
      "text/plain": [
       "    Min.  1st Qu.   Median     Mean  3rd Qu.     Max. \n",
       "-9.00000  0.00000  0.00000  0.02381  1.00000  1.00000 "
      ]
     },
     "metadata": {},
     "output_type": "display_data"
    },
    {
     "data": {
      "text/plain": [
       "\n",
       " -9   0   1 \n",
       "  8 125  77 "
      ]
     },
     "metadata": {},
     "output_type": "display_data"
    }
   ],
   "source": [
    "# Individualized education plan is an indicator.\n",
    "summary(stu$iep)\n",
    "table(stu$iep)\n",
    "\n",
    "# Break if we get unexpected values.\n",
    "# What does \"-9\" mean? This will throw off any summary of IEP status.\n",
    "iep_vals <- c(-9, 0, 1)\n",
    "stopifnot(all(stu$iep %in% iep_vals))"
   ]
  },
  {
   "cell_type": "code",
   "execution_count": 12,
   "metadata": {
    "vscode": {
     "languageId": "r"
    }
   },
   "outputs": [],
   "source": [
    "# Set missing values.\n",
    "# Assume the client gave us this definition.\n",
    "stu$iep[stu$iep == -9] <- NA"
   ]
  },
  {
   "cell_type": "code",
   "execution_count": 13,
   "metadata": {
    "vscode": {
     "languageId": "r"
    }
   },
   "outputs": [
    {
     "data": {
      "text/plain": [
       "   Min. 1st Qu.  Median    Mean 3rd Qu.    Max.    NA's \n",
       " 0.0000  0.0000  0.0000  0.3812  1.0000  1.0000       8 "
      ]
     },
     "metadata": {},
     "output_type": "display_data"
    }
   ],
   "source": [
    "# Check the summary again.\n",
    "# We can now interpret the mean as the share of students with an IEP.\n",
    "summary(stu$iep)\n",
    "stopifnot(all(stu$iep[!is.na(stu$iep)] %in% c(0, 1)))"
   ]
  },
  {
   "cell_type": "code",
   "execution_count": 14,
   "metadata": {
    "vscode": {
     "languageId": "r"
    }
   },
   "outputs": [
    {
     "data": {
      "text/plain": [
       "      math            ela             sci             soc       \n",
       " Min.   :-9.00   Min.   :-9.00   Min.   :-9.00   Min.   :-9.00  \n",
       " 1st Qu.:64.25   1st Qu.:64.00   1st Qu.:51.25   1st Qu.: 0.00  \n",
       " Median :77.00   Median :79.00   Median :54.00   Median : 0.00  \n",
       " Mean   :73.58   Mean   :74.05   Mean   :55.35   Mean   :36.39  \n",
       " 3rd Qu.:88.00   3rd Qu.:89.00   3rd Qu.:59.00   3rd Qu.:76.00  \n",
       " Max.   :99.00   Max.   :99.00   Max.   :85.00   Max.   :98.00  "
      ]
     },
     "metadata": {},
     "output_type": "display_data"
    }
   ],
   "source": [
    "# Subject test scores are continuous.\n",
    "# All subjects have some \"-9\" values. Social studies has a lot of zeros.\n",
    "subjs <- c(\"math\", \"ela\", \"sci\", \"soc\")\n",
    "summary(stu[, subjs])"
   ]
  },
  {
   "cell_type": "code",
   "execution_count": 15,
   "metadata": {
    "vscode": {
     "languageId": "r"
    }
   },
   "outputs": [],
   "source": [
    "# Set missing values.\n",
    "# Assume the client gave us this definition.\n",
    "stu <- mutate(stu, across(all_of(subjs), ~ replace(.x, .x == -9, NA)))"
   ]
  },
  {
   "cell_type": "markdown",
   "metadata": {},
   "source": [
    "**Technical note.** We used base R grammar and tidyverse grammar to make the same replacement to IEP and subject test scores, respectively. Both are correct, however sometimes one is more concise than another. Like with any writing, aim for clear and simple code."
   ]
  },
  {
   "cell_type": "code",
   "execution_count": 16,
   "metadata": {
    "vscode": {
     "languageId": "r"
    }
   },
   "outputs": [],
   "source": [
    "# Note the missingness pattern.\n",
    "# Students have either all test scores or no test scores.\n",
    "for (i in seq_along(subjs)) {\n",
    "  stopifnot(all(is.na(stu[, subjs[1]]) == is.na(stu[, subjs[i]])))\n",
    "}\n",
    "\n",
    "# Break if we get unexpected values.\n",
    "# This only checks that non-missing values are in [0, 100].\n",
    "for (subj in subjs) {\n",
    "  stopifnot(min(stu[, subj], na.rm = TRUE) >= 0)\n",
    "  stopifnot(max(stu[, subj], na.rm = TRUE) <= 100)\n",
    "}"
   ]
  },
  {
   "cell_type": "code",
   "execution_count": 17,
   "metadata": {
    "vscode": {
     "languageId": "r"
    }
   },
   "outputs": [
    {
     "name": "stderr",
     "output_type": "stream",
     "text": [
      "\u001b[1m\u001b[22m`stat_bin()` using `bins = 30`. Pick better value with `binwidth`.\n",
      "Warning message:\n",
      "\"\u001b[1m\u001b[22mRemoved 8 rows containing non-finite values (`stat_bin()`).\"\n"
     ]
    },
    {
     "data": {
      "image/png": "[encoded data removed]",
      "text/plain": [
       "plot without title"
      ]
     },
     "metadata": {
      "image/png": {
       "height": 420,
       "width": 420
      }
     },
     "output_type": "display_data"
    }
   ],
   "source": [
    "# Plot the distribution of test scores in social studies.\n",
    "# Zero is perhaps not impossible, but every student received a zero in 2019.\n",
    "stu |>\n",
    "  mutate(sy = factor(sy)) |>\n",
    "  ggplot(aes(x = soc, fill = sy)) +\n",
    "  geom_histogram(position = \"identity\") +\n",
    "  labs(\n",
    "    title = \"Social studies test scores by school year\",\n",
    "    x = \"Social studies score\",\n",
    "    y = \"Count\",\n",
    "    fill = \"School year\"\n",
    "  ) +\n",
    "  theme_minimal()"
   ]
  },
  {
   "cell_type": "code",
   "execution_count": 18,
   "metadata": {
    "vscode": {
     "languageId": "r"
    }
   },
   "outputs": [],
   "source": [
    "# Set missing values.\n",
    "# Assume we verified that the district awarded no social studies scores in 2019.\n",
    "stopifnot(all(stu$soc[stu$sy == 2019 & !is.na(stu$soc)] == 0))\n",
    "stu <- mutate(stu, soc = replace(soc, sy == 2019, NA))"
   ]
  },
  {
   "cell_type": "markdown",
   "metadata": {},
   "source": [
    "## Handle mixed data types\n",
    "\n",
    "The data describe gender using a mix of letters and numbers. In this case, a value that looks like a number is actually represented as a string. This section shows how we can reconcile this mismatch and introduces another example of missing data."
   ]
  },
  {
   "cell_type": "code",
   "execution_count": 19,
   "metadata": {
    "vscode": {
     "languageId": "r"
    }
   },
   "outputs": [
    {
     "data": {
      "text/plain": [
       "   Length     Class      Mode \n",
       "      210 character character "
      ]
     },
     "metadata": {},
     "output_type": "display_data"
    },
    {
     "data": {
      "text/plain": [
       "\n",
       "  1   2   X \n",
       "122  86   2 "
      ]
     },
     "metadata": {},
     "output_type": "display_data"
    }
   ],
   "source": [
    "# Gender has a mix of numeric and string data.\n",
    "summary(stu$gender)\n",
    "table(stu$gender)\n",
    "\n",
    "# Break if we get unexpected values.\n",
    "# Need to check what these mean against a codebook!\n",
    "gender_vals <- c(\"1\", \"2\", \"X\")\n",
    "stopifnot(all(stu$gender %in% gender_vals))"
   ]
  },
  {
   "cell_type": "code",
   "execution_count": 20,
   "metadata": {
    "vscode": {
     "languageId": "r"
    }
   },
   "outputs": [
    {
     "name": "stderr",
     "output_type": "stream",
     "text": [
      "Warning message:\n",
      "\"\u001b[1m\u001b[22mThere was 1 warning in `mutate()`.\n",
      "\u001b[1m\u001b[22m\u001b[36mℹ\u001b[39m In argument: `gender = as.numeric(gender_old)`.\n",
      "Caused by warning:\n",
      "\u001b[33m!\u001b[39m NAs introduced by coercion\"\n"
     ]
    },
    {
     "data": {
      "text/plain": [
       "   \n",
       "      1   2 <NA>\n",
       "  1 122   0    0\n",
       "  2   0  86    0\n",
       "  X   0   0    2"
      ]
     },
     "metadata": {},
     "output_type": "display_data"
    }
   ],
   "source": [
    "# Cast to numeric.\n",
    "# Assume the codebook defines \"X\" as missing.\n",
    "# This coerces \"X\" and all other non-numeric characters to \"NA\".\n",
    "stu <- stu |>\n",
    "  rename(gender_old = gender) |>\n",
    "  mutate(gender = as.numeric(gender_old))\n",
    "table(stu$gender_old, stu$gender, useNA = \"ifany\")"
   ]
  },
  {
   "cell_type": "code",
   "execution_count": 21,
   "metadata": {
    "vscode": {
     "languageId": "r"
    }
   },
   "outputs": [
    {
     "data": {
      "text/plain": [
       "        \n",
       "           1   2 <NA>\n",
       "  Male   122   0    0\n",
       "  Female   0  86    0\n",
       "  <NA>     0   0    2"
      ]
     },
     "metadata": {},
     "output_type": "display_data"
    }
   ],
   "source": [
    "# Cast to factor.\n",
    "# Assume the codebook provides this mapping of values to labels.\n",
    "gender_labs <- c(\"Male\" = 1, \"Female\" = 2)\n",
    "stu <- stu |>\n",
    "  mutate(gender = factor(\n",
    "    x = gender,\n",
    "    levels = gender_labs,\n",
    "    labels = names(gender_labs)\n",
    "  ))\n",
    "table(stu$gender, as.numeric(stu$gender), useNA = \"ifany\")"
   ]
  },
  {
   "cell_type": "markdown",
   "metadata": {},
   "source": [
    "**Technical note.** Notice how creating a factor variable for gender is more involved than creating a factor variable for race. In the previous example, we were not worried about the underlying mapping of labels to integers, e.g. \"Hispanic\" can be any integer. But in this example, we need to be explicit, e.g. \"Male\" must be \"1\"."
   ]
  },
  {
   "cell_type": "code",
   "execution_count": 22,
   "metadata": {
    "vscode": {
     "languageId": "r"
    }
   },
   "outputs": [
    {
     "name": "stderr",
     "output_type": "stream",
     "text": [
      "\u001b[1m\u001b[22m`summarise()` has grouped output by 'gender_old'. You can override using the\n",
      "`.groups` argument.\n"
     ]
    },
    {
     "data": {
      "text/html": [
       "<table class=\"dataframe\">\n",
       "<caption>A grouped_df: 3 × 5</caption>\n",
       "<thead>\n",
       "\t<tr><th scope=col>gender_old</th><th scope=col>gender</th><th scope=col>male</th><th scope=col>female</th><th scope=col>gender_na</th></tr>\n",
       "\t<tr><th scope=col>&lt;chr&gt;</th><th scope=col>&lt;fct&gt;</th><th scope=col>&lt;dbl&gt;</th><th scope=col>&lt;dbl&gt;</th><th scope=col>&lt;int&gt;</th></tr>\n",
       "</thead>\n",
       "<tbody>\n",
       "\t<tr><td>1</td><td>Male  </td><td>122</td><td> 0</td><td>0</td></tr>\n",
       "\t<tr><td>2</td><td>Female</td><td>  0</td><td>86</td><td>0</td></tr>\n",
       "\t<tr><td>X</td><td>NA    </td><td>  0</td><td> 0</td><td>2</td></tr>\n",
       "</tbody>\n",
       "</table>\n"
      ],
      "text/latex": [
       "A grouped\\_df: 3 × 5\n",
       "\\begin{tabular}{lllll}\n",
       " gender\\_old & gender & male & female & gender\\_na\\\\\n",
       " <chr> & <fct> & <dbl> & <dbl> & <int>\\\\\n",
       "\\hline\n",
       "\t 1 & Male   & 122 &  0 & 0\\\\\n",
       "\t 2 & Female &   0 & 86 & 0\\\\\n",
       "\t X & NA     &   0 &  0 & 2\\\\\n",
       "\\end{tabular}\n"
      ],
      "text/markdown": [
       "\n",
       "A grouped_df: 3 × 5\n",
       "\n",
       "| gender_old &lt;chr&gt; | gender &lt;fct&gt; | male &lt;dbl&gt; | female &lt;dbl&gt; | gender_na &lt;int&gt; |\n",
       "|---|---|---|---|---|\n",
       "| 1 | Male   | 122 |  0 | 0 |\n",
       "| 2 | Female |   0 | 86 | 0 |\n",
       "| X | NA     |   0 |  0 | 2 |\n",
       "\n"
      ],
      "text/plain": [
       "  gender_old gender male female gender_na\n",
       "1 1          Male   122   0     0        \n",
       "2 2          Female   0  86     0        \n",
       "3 X          NA       0   0     2        "
      ]
     },
     "metadata": {},
     "output_type": "display_data"
    }
   ],
   "source": [
    "# Cast to indicators.\n",
    "# Assume we decided to label anyone categorized as \"F\" or \"X\" as \"not male\".\n",
    "# Fill \"NA\" values in the new indicators with zero to complete coverage.\n",
    "stu <- dummy_cols(stu, \"gender\") |>\n",
    "  rename_with(tolower) |>\n",
    "  rename(c(male = gender_male, female = gender_female)) |>\n",
    "  mutate(across(c(male, female), ~ if_else(is.na(.x), 0, .x)))\n",
    "\n",
    "# Check correspondence.\n",
    "stu |>\n",
    "  group_by(gender_old, gender) |>\n",
    "  summarize(across(c(male, female, gender_na), sum))"
   ]
  },
  {
   "cell_type": "markdown",
   "metadata": {},
   "source": [
    "**Technical note.** There are subtle but important distinctions in types of missingness. Are the data systematically missing, like social studies test scores? Or are they missing at random, like IEP status? Does a missing value for gender mean that the student did not report their gender? Or that they identify as neither male nor female? Can we distinguish these cases? Consider how this applies and whether it could affect the analysis."
   ]
  },
  {
   "cell_type": "markdown",
   "metadata": {},
   "source": [
    "## Handle duplicate data\n",
    "\n",
    "The data follow students over two years, with separate records for each year. Mechanically, multiple records for a student in the same year would up-weight that student in the analysis. But more importantly, duplicates can complicate what we consider to be the truth. This section introduces strategies to deduplicate data and introduces unique identifiers."
   ]
  },
  {
   "cell_type": "code",
   "execution_count": 23,
   "metadata": {
    "vscode": {
     "languageId": "r"
    }
   },
   "outputs": [],
   "source": [
    "# Write a function to check uniqueness of identifiers.\n",
    "# Use this in a chain of tidyverse functions to check your work.\n",
    "isid <- function(.data, ...) {\n",
    "  if(any(duplicated(dplyr::select(.data, ...)))) {\n",
    "    stop(\"indexers do not uniquely identify the observations\")\n",
    "  }\n",
    "  return(.data)\n",
    "}"
   ]
  },
  {
   "cell_type": "code",
   "execution_count": 24,
   "metadata": {
    "vscode": {
     "languageId": "r"
    }
   },
   "outputs": [
    {
     "name": "stdout",
     "output_type": "stream",
     "text": [
      "[1] \"Perfect duplicates: 5\"\n"
     ]
    }
   ],
   "source": [
    "# Drop perfect duplicates.\n",
    "# Check, but it is probably safe to assume no loss of information.\n",
    "nobs <- nrow(stu)\n",
    "stu <- unique(stu)\n",
    "dups <- nobs - nrow(stu)\n",
    "print(paste(\"Perfect duplicates:\", dups))"
   ]
  },
  {
   "cell_type": "code",
   "execution_count": 25,
   "metadata": {
    "vscode": {
     "languageId": "r"
    }
   },
   "outputs": [
    {
     "data": {
      "text/plain": [
       "\n",
       "FALSE  TRUE \n",
       "  195    10 "
      ]
     },
     "metadata": {},
     "output_type": "display_data"
    }
   ],
   "source": [
    "# Mark remaining duplicates.\n",
    "# This checks whether the number of rows within a student-year exceeds 1.\n",
    "stu <- stu |>\n",
    "  group_by(stuid, sy) |>\n",
    "  mutate(is_dup = n() > 1) |>\n",
    "  ungroup()\n",
    "table(stu$is_dup)"
   ]
  },
  {
   "cell_type": "code",
   "execution_count": 26,
   "metadata": {
    "vscode": {
     "languageId": "r"
    }
   },
   "outputs": [
    {
     "data": {
      "text/html": [
       "<table class=\"dataframe\">\n",
       "<caption>A tibble: 10 × 21</caption>\n",
       "<thead>\n",
       "\t<tr><th scope=col>sy</th><th scope=col>stuid</th><th scope=col>schid</th><th scope=col>grade</th><th scope=col>dob</th><th scope=col>gender_old</th><th scope=col>race</th><th scope=col>iep</th><th scope=col>math</th><th scope=col>ela</th><th scope=col>⋯</th><th scope=col>soc</th><th scope=col>oss</th><th scope=col>asian</th><th scope=col>black</th><th scope=col>hispanic</th><th scope=col>white</th><th scope=col>gender</th><th scope=col>male</th><th scope=col>female</th><th scope=col>gender_na</th></tr>\n",
       "\t<tr><th scope=col>&lt;int&gt;</th><th scope=col>&lt;int&gt;</th><th scope=col>&lt;chr&gt;</th><th scope=col>&lt;int&gt;</th><th scope=col>&lt;date&gt;</th><th scope=col>&lt;chr&gt;</th><th scope=col>&lt;fct&gt;</th><th scope=col>&lt;int&gt;</th><th scope=col>&lt;int&gt;</th><th scope=col>&lt;int&gt;</th><th scope=col>⋯</th><th scope=col>&lt;int&gt;</th><th scope=col>&lt;int&gt;</th><th scope=col>&lt;int&gt;</th><th scope=col>&lt;int&gt;</th><th scope=col>&lt;int&gt;</th><th scope=col>&lt;int&gt;</th><th scope=col>&lt;fct&gt;</th><th scope=col>&lt;dbl&gt;</th><th scope=col>&lt;dbl&gt;</th><th scope=col>&lt;int&gt;</th></tr>\n",
       "</thead>\n",
       "<tbody>\n",
       "\t<tr><td>2018</td><td>10</td><td>A</td><td>6</td><td>2007-07-22</td><td>1</td><td>White</td><td>0</td><td>98</td><td>98</td><td>⋯</td><td>98</td><td>0</td><td>0</td><td>0</td><td>0</td><td>1</td><td>Male  </td><td>1</td><td>0</td><td>0</td></tr>\n",
       "\t<tr><td>2018</td><td>10</td><td>A</td><td>6</td><td>2007-07-22</td><td>1</td><td>White</td><td>0</td><td>98</td><td>98</td><td>⋯</td><td>98</td><td>2</td><td>0</td><td>0</td><td>0</td><td>1</td><td>Male  </td><td>1</td><td>0</td><td>0</td></tr>\n",
       "\t<tr><td>2018</td><td>20</td><td>A</td><td>6</td><td>2007-08-04</td><td>2</td><td>White</td><td>0</td><td>73</td><td>85</td><td>⋯</td><td>80</td><td>0</td><td>0</td><td>0</td><td>0</td><td>1</td><td>Female</td><td>0</td><td>1</td><td>0</td></tr>\n",
       "\t<tr><td>2018</td><td>20</td><td>A</td><td>6</td><td>2007-08-04</td><td>2</td><td>White</td><td>0</td><td>73</td><td>85</td><td>⋯</td><td>80</td><td>2</td><td>0</td><td>0</td><td>0</td><td>1</td><td>Female</td><td>0</td><td>1</td><td>0</td></tr>\n",
       "\t<tr><td>2018</td><td>30</td><td>A</td><td>6</td><td>2006-10-21</td><td>2</td><td>Black</td><td>0</td><td>79</td><td>80</td><td>⋯</td><td>79</td><td>0</td><td>0</td><td>1</td><td>0</td><td>0</td><td>Female</td><td>0</td><td>1</td><td>0</td></tr>\n",
       "\t<tr><td>2018</td><td>30</td><td>A</td><td>6</td><td>2006-10-21</td><td>2</td><td>Black</td><td>0</td><td>79</td><td>80</td><td>⋯</td><td>79</td><td>2</td><td>0</td><td>1</td><td>0</td><td>0</td><td>Female</td><td>0</td><td>1</td><td>0</td></tr>\n",
       "\t<tr><td>2018</td><td>40</td><td>A</td><td>6</td><td>2007-02-16</td><td>1</td><td>Black</td><td>1</td><td>61</td><td>66</td><td>⋯</td><td>62</td><td>0</td><td>0</td><td>1</td><td>0</td><td>0</td><td>Male  </td><td>1</td><td>0</td><td>0</td></tr>\n",
       "\t<tr><td>2018</td><td>40</td><td>A</td><td>6</td><td>2007-02-16</td><td>1</td><td>Black</td><td>1</td><td>61</td><td>66</td><td>⋯</td><td>62</td><td>2</td><td>0</td><td>1</td><td>0</td><td>0</td><td>Male  </td><td>1</td><td>0</td><td>0</td></tr>\n",
       "\t<tr><td>2018</td><td>50</td><td>A</td><td>6</td><td>2007-02-19</td><td>2</td><td>White</td><td>1</td><td>73</td><td>58</td><td>⋯</td><td>58</td><td>0</td><td>0</td><td>0</td><td>0</td><td>1</td><td>Female</td><td>0</td><td>1</td><td>0</td></tr>\n",
       "\t<tr><td>2018</td><td>50</td><td>A</td><td>6</td><td>2007-02-19</td><td>2</td><td>White</td><td>1</td><td>73</td><td>58</td><td>⋯</td><td>58</td><td>2</td><td>0</td><td>0</td><td>0</td><td>1</td><td>Female</td><td>0</td><td>1</td><td>0</td></tr>\n",
       "</tbody>\n",
       "</table>\n"
      ],
      "text/latex": [
       "A tibble: 10 × 21\n",
       "\\begin{tabular}{lllllllllllllllllllll}\n",
       " sy & stuid & schid & grade & dob & gender\\_old & race & iep & math & ela & ⋯ & soc & oss & asian & black & hispanic & white & gender & male & female & gender\\_na\\\\\n",
       " <int> & <int> & <chr> & <int> & <date> & <chr> & <fct> & <int> & <int> & <int> & ⋯ & <int> & <int> & <int> & <int> & <int> & <int> & <fct> & <dbl> & <dbl> & <int>\\\\\n",
       "\\hline\n",
       "\t 2018 & 10 & A & 6 & 2007-07-22 & 1 & White & 0 & 98 & 98 & ⋯ & 98 & 0 & 0 & 0 & 0 & 1 & Male   & 1 & 0 & 0\\\\\n",
       "\t 2018 & 10 & A & 6 & 2007-07-22 & 1 & White & 0 & 98 & 98 & ⋯ & 98 & 2 & 0 & 0 & 0 & 1 & Male   & 1 & 0 & 0\\\\\n",
       "\t 2018 & 20 & A & 6 & 2007-08-04 & 2 & White & 0 & 73 & 85 & ⋯ & 80 & 0 & 0 & 0 & 0 & 1 & Female & 0 & 1 & 0\\\\\n",
       "\t 2018 & 20 & A & 6 & 2007-08-04 & 2 & White & 0 & 73 & 85 & ⋯ & 80 & 2 & 0 & 0 & 0 & 1 & Female & 0 & 1 & 0\\\\\n",
       "\t 2018 & 30 & A & 6 & 2006-10-21 & 2 & Black & 0 & 79 & 80 & ⋯ & 79 & 0 & 0 & 1 & 0 & 0 & Female & 0 & 1 & 0\\\\\n",
       "\t 2018 & 30 & A & 6 & 2006-10-21 & 2 & Black & 0 & 79 & 80 & ⋯ & 79 & 2 & 0 & 1 & 0 & 0 & Female & 0 & 1 & 0\\\\\n",
       "\t 2018 & 40 & A & 6 & 2007-02-16 & 1 & Black & 1 & 61 & 66 & ⋯ & 62 & 0 & 0 & 1 & 0 & 0 & Male   & 1 & 0 & 0\\\\\n",
       "\t 2018 & 40 & A & 6 & 2007-02-16 & 1 & Black & 1 & 61 & 66 & ⋯ & 62 & 2 & 0 & 1 & 0 & 0 & Male   & 1 & 0 & 0\\\\\n",
       "\t 2018 & 50 & A & 6 & 2007-02-19 & 2 & White & 1 & 73 & 58 & ⋯ & 58 & 0 & 0 & 0 & 0 & 1 & Female & 0 & 1 & 0\\\\\n",
       "\t 2018 & 50 & A & 6 & 2007-02-19 & 2 & White & 1 & 73 & 58 & ⋯ & 58 & 2 & 0 & 0 & 0 & 1 & Female & 0 & 1 & 0\\\\\n",
       "\\end{tabular}\n"
      ],
      "text/markdown": [
       "\n",
       "A tibble: 10 × 21\n",
       "\n",
       "| sy &lt;int&gt; | stuid &lt;int&gt; | schid &lt;chr&gt; | grade &lt;int&gt; | dob &lt;date&gt; | gender_old &lt;chr&gt; | race &lt;fct&gt; | iep &lt;int&gt; | math &lt;int&gt; | ela &lt;int&gt; | ⋯ ⋯ | soc &lt;int&gt; | oss &lt;int&gt; | asian &lt;int&gt; | black &lt;int&gt; | hispanic &lt;int&gt; | white &lt;int&gt; | gender &lt;fct&gt; | male &lt;dbl&gt; | female &lt;dbl&gt; | gender_na &lt;int&gt; |\n",
       "|---|---|---|---|---|---|---|---|---|---|---|---|---|---|---|---|---|---|---|---|---|\n",
       "| 2018 | 10 | A | 6 | 2007-07-22 | 1 | White | 0 | 98 | 98 | ⋯ | 98 | 0 | 0 | 0 | 0 | 1 | Male   | 1 | 0 | 0 |\n",
       "| 2018 | 10 | A | 6 | 2007-07-22 | 1 | White | 0 | 98 | 98 | ⋯ | 98 | 2 | 0 | 0 | 0 | 1 | Male   | 1 | 0 | 0 |\n",
       "| 2018 | 20 | A | 6 | 2007-08-04 | 2 | White | 0 | 73 | 85 | ⋯ | 80 | 0 | 0 | 0 | 0 | 1 | Female | 0 | 1 | 0 |\n",
       "| 2018 | 20 | A | 6 | 2007-08-04 | 2 | White | 0 | 73 | 85 | ⋯ | 80 | 2 | 0 | 0 | 0 | 1 | Female | 0 | 1 | 0 |\n",
       "| 2018 | 30 | A | 6 | 2006-10-21 | 2 | Black | 0 | 79 | 80 | ⋯ | 79 | 0 | 0 | 1 | 0 | 0 | Female | 0 | 1 | 0 |\n",
       "| 2018 | 30 | A | 6 | 2006-10-21 | 2 | Black | 0 | 79 | 80 | ⋯ | 79 | 2 | 0 | 1 | 0 | 0 | Female | 0 | 1 | 0 |\n",
       "| 2018 | 40 | A | 6 | 2007-02-16 | 1 | Black | 1 | 61 | 66 | ⋯ | 62 | 0 | 0 | 1 | 0 | 0 | Male   | 1 | 0 | 0 |\n",
       "| 2018 | 40 | A | 6 | 2007-02-16 | 1 | Black | 1 | 61 | 66 | ⋯ | 62 | 2 | 0 | 1 | 0 | 0 | Male   | 1 | 0 | 0 |\n",
       "| 2018 | 50 | A | 6 | 2007-02-19 | 2 | White | 1 | 73 | 58 | ⋯ | 58 | 0 | 0 | 0 | 0 | 1 | Female | 0 | 1 | 0 |\n",
       "| 2018 | 50 | A | 6 | 2007-02-19 | 2 | White | 1 | 73 | 58 | ⋯ | 58 | 2 | 0 | 0 | 0 | 1 | Female | 0 | 1 | 0 |\n",
       "\n"
      ],
      "text/plain": [
       "   sy   stuid schid grade dob        gender_old race  iep math ela ⋯ soc oss\n",
       "1  2018 10    A     6     2007-07-22 1          White 0   98   98  ⋯ 98  0  \n",
       "2  2018 10    A     6     2007-07-22 1          White 0   98   98  ⋯ 98  2  \n",
       "3  2018 20    A     6     2007-08-04 2          White 0   73   85  ⋯ 80  0  \n",
       "4  2018 20    A     6     2007-08-04 2          White 0   73   85  ⋯ 80  2  \n",
       "5  2018 30    A     6     2006-10-21 2          Black 0   79   80  ⋯ 79  0  \n",
       "6  2018 30    A     6     2006-10-21 2          Black 0   79   80  ⋯ 79  2  \n",
       "7  2018 40    A     6     2007-02-16 1          Black 1   61   66  ⋯ 62  0  \n",
       "8  2018 40    A     6     2007-02-16 1          Black 1   61   66  ⋯ 62  2  \n",
       "9  2018 50    A     6     2007-02-19 2          White 1   73   58  ⋯ 58  0  \n",
       "10 2018 50    A     6     2007-02-19 2          White 1   73   58  ⋯ 58  2  \n",
       "   asian black hispanic white gender male female gender_na\n",
       "1  0     0     0        1     Male   1    0      0        \n",
       "2  0     0     0        1     Male   1    0      0        \n",
       "3  0     0     0        1     Female 0    1      0        \n",
       "4  0     0     0        1     Female 0    1      0        \n",
       "5  0     1     0        0     Female 0    1      0        \n",
       "6  0     1     0        0     Female 0    1      0        \n",
       "7  0     1     0        0     Male   1    0      0        \n",
       "8  0     1     0        0     Male   1    0      0        \n",
       "9  0     0     0        1     Female 0    1      0        \n",
       "10 0     0     0        1     Female 0    1      0        "
      ]
     },
     "metadata": {},
     "output_type": "display_data"
    }
   ],
   "source": [
    "# Show duplicates.\n",
    "# Looks like some have multiple records for suspensions. Which is right?\n",
    "stu |>\n",
    "  filter(is_dup) |>\n",
    "  arrange(stuid, sy) |>\n",
    "  select(-is_dup)"
   ]
  },
  {
   "cell_type": "code",
   "execution_count": 27,
   "metadata": {
    "vscode": {
     "languageId": "r"
    }
   },
   "outputs": [],
   "source": [
    "# Deduplicate.\n",
    "# Assume we have no preference between records, so we take the average.\n",
    "# Student ID and school year now uniquely identify rows in the dataset.\n",
    "stu <- stu |>\n",
    "  group_by(stuid, sy) |>\n",
    "  mutate(oss = if_else(is_dup, mean(oss), oss)) |>\n",
    "  ungroup() |>\n",
    "  unique() |>\n",
    "  isid(stuid, sy)"
   ]
  },
  {
   "cell_type": "markdown",
   "metadata": {},
   "source": [
    "## Reshape and merge data\n",
    "\n",
    "The data that describe schools are in a different sort of rectangle than that for students. This section describes changing the shape of the data without changing the data itself. It also shows how to combine two datasets."
   ]
  },
  {
   "cell_type": "code",
   "execution_count": 28,
   "metadata": {
    "vscode": {
     "languageId": "r"
    }
   },
   "outputs": [
    {
     "data": {
      "text/html": [
       "<table class=\"dataframe\">\n",
       "<caption>A data.frame: 3 × 6</caption>\n",
       "<thead>\n",
       "\t<tr><th></th><th scope=col>schid</th><th scope=col>school_name</th><th scope=col>frpl18</th><th scope=col>frpl19</th><th scope=col>enrl18</th><th scope=col>enrl19</th></tr>\n",
       "\t<tr><th></th><th scope=col>&lt;chr&gt;</th><th scope=col>&lt;chr&gt;</th><th scope=col>&lt;dbl&gt;</th><th scope=col>&lt;dbl&gt;</th><th scope=col>&lt;dbl&gt;</th><th scope=col>&lt;dbl&gt;</th></tr>\n",
       "</thead>\n",
       "<tbody>\n",
       "\t<tr><th scope=row>1</th><td>A</td><td>Yuri Andropov Middle School           </td><td>0.34</td><td>0.35</td><td>412</td><td>399</td></tr>\n",
       "\t<tr><th scope=row>2</th><td>B</td><td>Leonid Brezhnev Middle School         </td><td>0.56</td><td>0.52</td><td>818</td><td>721</td></tr>\n",
       "\t<tr><th scope=row>3</th><td>C</td><td>Konstantin Chernenko Elementary School</td><td>0.41</td><td>0.42</td><td>229</td><td>241</td></tr>\n",
       "</tbody>\n",
       "</table>\n"
      ],
      "text/latex": [
       "A data.frame: 3 × 6\n",
       "\\begin{tabular}{r|llllll}\n",
       "  & schid & school\\_name & frpl18 & frpl19 & enrl18 & enrl19\\\\\n",
       "  & <chr> & <chr> & <dbl> & <dbl> & <dbl> & <dbl>\\\\\n",
       "\\hline\n",
       "\t1 & A & Yuri Andropov Middle School            & 0.34 & 0.35 & 412 & 399\\\\\n",
       "\t2 & B & Leonid Brezhnev Middle School          & 0.56 & 0.52 & 818 & 721\\\\\n",
       "\t3 & C & Konstantin Chernenko Elementary School & 0.41 & 0.42 & 229 & 241\\\\\n",
       "\\end{tabular}\n"
      ],
      "text/markdown": [
       "\n",
       "A data.frame: 3 × 6\n",
       "\n",
       "| <!--/--> | schid &lt;chr&gt; | school_name &lt;chr&gt; | frpl18 &lt;dbl&gt; | frpl19 &lt;dbl&gt; | enrl18 &lt;dbl&gt; | enrl19 &lt;dbl&gt; |\n",
       "|---|---|---|---|---|---|---|\n",
       "| 1 | A | Yuri Andropov Middle School            | 0.34 | 0.35 | 412 | 399 |\n",
       "| 2 | B | Leonid Brezhnev Middle School          | 0.56 | 0.52 | 818 | 721 |\n",
       "| 3 | C | Konstantin Chernenko Elementary School | 0.41 | 0.42 | 229 | 241 |\n",
       "\n"
      ],
      "text/plain": [
       "  schid school_name                            frpl18 frpl19 enrl18 enrl19\n",
       "1 A     Yuri Andropov Middle School            0.34   0.35   412    399   \n",
       "2 B     Leonid Brezhnev Middle School          0.56   0.52   818    721   \n",
       "3 C     Konstantin Chernenko Elementary School 0.41   0.42   229    241   "
      ]
     },
     "metadata": {},
     "output_type": "display_data"
    }
   ],
   "source": [
    "# Load and peek at school data.\n",
    "# Need to use the function that corresponds to the file type, e.g. Excel.\n",
    "sch <- read.xlsx(SCH, sheet = \"sch\")\n",
    "head(sch)"
   ]
  },
  {
   "cell_type": "code",
   "execution_count": 29,
   "metadata": {
    "vscode": {
     "languageId": "r"
    }
   },
   "outputs": [],
   "source": [
    "# Transform to school-year level.\n",
    "# Note each row describes one school over multiple years. These are \"wide\" data.\n",
    "# We can construct a school year variable from the information encoded in the\n",
    "# column names to make additional rows for each school and school year.\n",
    "sch <- sch |>\n",
    "  isid(schid) |>\n",
    "  pivot_longer(\n",
    "    # Columns to pivot.\n",
    "    cols = starts_with(c(\"frpl\", \"enrl\")),\n",
    "    # Regular expression to parse data encoded in pivot column names.\n",
    "    names_pattern = \"^([a-z]+)([0-9]+)$\",\n",
    "    # New columns to create; \".value\" gets corresponding capture group above.\n",
    "    names_to = c(\".value\", \"sy\"),\n",
    "    # Cast school year as numeric.\n",
    "    names_transform = list(sy = as.integer)\n",
    "  ) |>\n",
    "  mutate(sy = 2000 + sy) |>\n",
    "  isid(schid, sy)"
   ]
  },
  {
   "cell_type": "markdown",
   "metadata": {},
   "source": [
    "**Technical note.** The challenge with `pivot_longer()` is describing how to parse existing column names for variables and values. Here is how it works:\n",
    "1. The column `frpl18` contains the variables `frpl` and `sy` and the value `18`.\n",
    "2. The argument `names_pattern` splits the column name `frpl18` into `frpl` and `18`. Notice the two sets of parenthesis to demarcate two capture groups.\n",
    "3. The argument `names_to` creates columns named `frpl` to store the data and `sy` to store the value `18`. Notice both arguments describe two columns."
   ]
  },
  {
   "cell_type": "code",
   "execution_count": 30,
   "metadata": {
    "vscode": {
     "languageId": "r"
    }
   },
   "outputs": [],
   "source": [
    "# Merge student and school data.\n",
    "# This adds columns from the second data frame to the first by matching rows on\n",
    "# shared keys. Note the relationship between the keys of both data frames.\n",
    "stu_sch_long <- left_join(\n",
    "  stu,\n",
    "  sch,\n",
    "  by = c(\"schid\", \"sy\"),\n",
    "  relationship = \"many-to-one\"\n",
    ") |>\n",
    "isid(stuid, sy)"
   ]
  },
  {
   "cell_type": "code",
   "execution_count": 31,
   "metadata": {
    "vscode": {
     "languageId": "r"
    }
   },
   "outputs": [
    {
     "data": {
      "text/html": [
       "<table class=\"dataframe\">\n",
       "<caption>A tibble: 2 × 5</caption>\n",
       "<thead>\n",
       "\t<tr><th scope=col>schid</th><th scope=col>school_name</th><th scope=col>sy</th><th scope=col>frpl</th><th scope=col>enrl</th></tr>\n",
       "\t<tr><th scope=col>&lt;chr&gt;</th><th scope=col>&lt;chr&gt;</th><th scope=col>&lt;dbl&gt;</th><th scope=col>&lt;dbl&gt;</th><th scope=col>&lt;dbl&gt;</th></tr>\n",
       "</thead>\n",
       "<tbody>\n",
       "\t<tr><td>C</td><td>Konstantin Chernenko Elementary School</td><td>2018</td><td>0.41</td><td>229</td></tr>\n",
       "\t<tr><td>C</td><td>Konstantin Chernenko Elementary School</td><td>2019</td><td>0.42</td><td>241</td></tr>\n",
       "</tbody>\n",
       "</table>\n"
      ],
      "text/latex": [
       "A tibble: 2 × 5\n",
       "\\begin{tabular}{lllll}\n",
       " schid & school\\_name & sy & frpl & enrl\\\\\n",
       " <chr> & <chr> & <dbl> & <dbl> & <dbl>\\\\\n",
       "\\hline\n",
       "\t C & Konstantin Chernenko Elementary School & 2018 & 0.41 & 229\\\\\n",
       "\t C & Konstantin Chernenko Elementary School & 2019 & 0.42 & 241\\\\\n",
       "\\end{tabular}\n"
      ],
      "text/markdown": [
       "\n",
       "A tibble: 2 × 5\n",
       "\n",
       "| schid &lt;chr&gt; | school_name &lt;chr&gt; | sy &lt;dbl&gt; | frpl &lt;dbl&gt; | enrl &lt;dbl&gt; |\n",
       "|---|---|---|---|---|\n",
       "| C | Konstantin Chernenko Elementary School | 2018 | 0.41 | 229 |\n",
       "| C | Konstantin Chernenko Elementary School | 2019 | 0.42 | 241 |\n",
       "\n"
      ],
      "text/plain": [
       "  schid school_name                            sy   frpl enrl\n",
       "1 C     Konstantin Chernenko Elementary School 2018 0.41 229 \n",
       "2 C     Konstantin Chernenko Elementary School 2019 0.42 241 "
      ]
     },
     "metadata": {},
     "output_type": "display_data"
    }
   ],
   "source": [
    "# Check what did not merge.\n",
    "# Filters the first data frame for rows that do not match in the second. Note\n",
    "# that all students match, but not all schools do.\n",
    "check <- anti_join(stu, sch, by = c(\"schid\", \"sy\"))\n",
    "stopifnot(nrow(check) == 0)\n",
    "anti_join(sch, stu, by = c(\"schid\", \"sy\"))"
   ]
  },
  {
   "cell_type": "markdown",
   "metadata": {},
   "source": [
    "**Technical note.** The relationship describes the association between datasets. In this example, \"many-to-one\" means that we expect to associate many students with one school. And at the same time, we do not expect to associate a student with many schools. A \"one-to-one\" relationship implies that the datasets have the same unique identifiers. Always check what does not match!"
   ]
  },
  {
   "cell_type": "code",
   "execution_count": 32,
   "metadata": {
    "vscode": {
     "languageId": "r"
    }
   },
   "outputs": [],
   "source": [
    "# Make analytic dataset.\n",
    "# Transform data so that each student in the regression has their own row.\n",
    "stu_sch_wide <- stu_sch_long |>\n",
    "  # Ensure data are unique by student-year and student-grade.\n",
    "  isid(stuid, sy) |>\n",
    "  isid(stuid, grade) |>\n",
    "  # Drop unnecessary columns that vary by student.\n",
    "  select(-c(sy, is_dup)) |>\n",
    "  # Reshape wide on grade.\n",
    "  pivot_wider(\n",
    "    names_from = grade,\n",
    "    values_from = c(iep, math, ela, sci, soc, oss, frpl, enrl)\n",
    "  ) |>\n",
    "  isid(stuid)"
   ]
  },
  {
   "cell_type": "markdown",
   "metadata": {},
   "source": [
    "## Save clean file\n",
    "\n",
    "With data cleaning complete, save the analysis file for use in the analysis program. Come back to the cleaning program to implement major revisions that the analysis requires. Aim to keep the workflow simple so that anyone who looks through the repository can follow along."
   ]
  },
  {
   "cell_type": "code",
   "execution_count": 33,
   "metadata": {
    "vscode": {
     "languageId": "r"
    }
   },
   "outputs": [],
   "source": [
    "# Save to load into another R program.\n",
    "# This saves the long and wide datasets just as they are.\n",
    "save(stu_sch_long, stu_sch_wide, file = DTA)\n",
    "\n",
    "# Save to Excel workbook.\n",
    "# Provide a named list to write multiple datasets to different worksheets.\n",
    "ws <- list(\"long\" = stu_sch_long, \"wide\" = stu_sch_wide)\n",
    "write.xlsx(ws, OUT)"
   ]
  }
 ],
 "metadata": {
  "kernelspec": {
   "display_name": "R",
   "language": "R",
   "name": "ir"
  },
  "language_info": {
   "codemirror_mode": "r",
   "file_extension": ".r",
   "mimetype": "text/x-r-source",
   "name": "R",
   "pygments_lexer": "r",
   "version": "4.3.2"
  }
 },
 "nbformat": 4,
 "nbformat_minor": 2
}
