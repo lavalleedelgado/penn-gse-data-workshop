{
 "cells": [
  {
   "cell_type": "markdown",
   "metadata": {},
   "source": [
    "# Run analysis\n",
    "\n",
    "Imagine we want to measure student achievement and growth in seventh grade. We have data that follow students from sixth to seventh grade and describe their demographic characteristics and exit exam scores in core subjects. This notebook walks through common data analysis tasks on an example clean dataset. The code explores relationships in the data with plots, tables, and regressions."
   ]
  },
  {
   "cell_type": "code",
   "execution_count": 1,
   "metadata": {
    "vscode": {
     "languageId": "r"
    }
   },
   "outputs": [
    {
     "name": "stderr",
     "output_type": "stream",
     "text": [
      "\n",
      "Attaching package: 'dplyr'\n",
      "\n",
      "\n",
      "The following objects are masked from 'package:stats':\n",
      "\n",
      "    filter, lag\n",
      "\n",
      "\n",
      "The following objects are masked from 'package:base':\n",
      "\n",
      "    intersect, setdiff, setequal, union\n",
      "\n",
      "\n"
     ]
    }
   ],
   "source": [
    "# Load packages.\n",
    "library(dplyr)\n",
    "library(tidyr)\n",
    "library(ggplot2)\n",
    "library(broom)\n",
    "library(openxlsx)"
   ]
  },
  {
   "cell_type": "code",
   "execution_count": 2,
   "metadata": {
    "vscode": {
     "languageId": "r"
    }
   },
   "outputs": [],
   "source": [
    "# Identify inputs and outputs.\n",
    "PWD <- file.path(getwd(), \"..\")\n",
    "DTA <- file.path(PWD, \"out\", \"data.rda\")\n",
    "FIG <- file.path(PWD, \"out\", \"plot.png\")\n",
    "OUT <- file.path(PWD, \"out\", \"analysis.xlsx\")"
   ]
  },
  {
   "cell_type": "code",
   "execution_count": 3,
   "metadata": {
    "vscode": {
     "languageId": "r"
    }
   },
   "outputs": [
    {
     "data": {
      "text/html": [
       "<table class=\"dataframe\">\n",
       "<caption>A tibble: 6 × 24</caption>\n",
       "<thead>\n",
       "\t<tr><th scope=col>sy</th><th scope=col>stuid</th><th scope=col>schid</th><th scope=col>grade</th><th scope=col>gender_old</th><th scope=col>race</th><th scope=col>iep</th><th scope=col>math</th><th scope=col>ela</th><th scope=col>sci</th><th scope=col>⋯</th><th scope=col>hispanic</th><th scope=col>white</th><th scope=col>gender</th><th scope=col>male</th><th scope=col>female</th><th scope=col>gender_na</th><th scope=col>is_dup</th><th scope=col>school_name</th><th scope=col>frpl</th><th scope=col>enrl</th></tr>\n",
       "\t<tr><th scope=col>&lt;dbl&gt;</th><th scope=col>&lt;int&gt;</th><th scope=col>&lt;chr&gt;</th><th scope=col>&lt;int&gt;</th><th scope=col>&lt;chr&gt;</th><th scope=col>&lt;fct&gt;</th><th scope=col>&lt;int&gt;</th><th scope=col>&lt;int&gt;</th><th scope=col>&lt;int&gt;</th><th scope=col>&lt;int&gt;</th><th scope=col>⋯</th><th scope=col>&lt;int&gt;</th><th scope=col>&lt;int&gt;</th><th scope=col>&lt;fct&gt;</th><th scope=col>&lt;dbl&gt;</th><th scope=col>&lt;dbl&gt;</th><th scope=col>&lt;int&gt;</th><th scope=col>&lt;lgl&gt;</th><th scope=col>&lt;chr&gt;</th><th scope=col>&lt;dbl&gt;</th><th scope=col>&lt;dbl&gt;</th></tr>\n",
       "</thead>\n",
       "<tbody>\n",
       "\t<tr><td>2018</td><td>1</td><td>A</td><td>6</td><td>1</td><td>Black   </td><td>0</td><td>88</td><td>74</td><td>55</td><td>⋯</td><td>0</td><td>0</td><td>Male  </td><td>1</td><td>0</td><td>0</td><td>FALSE</td><td>Yuri Andropov Middle School</td><td>0.34</td><td>412</td></tr>\n",
       "\t<tr><td>2018</td><td>2</td><td>A</td><td>6</td><td>1</td><td>Black   </td><td>0</td><td>87</td><td>87</td><td>54</td><td>⋯</td><td>0</td><td>0</td><td>Male  </td><td>1</td><td>0</td><td>0</td><td>FALSE</td><td>Yuri Andropov Middle School</td><td>0.34</td><td>412</td></tr>\n",
       "\t<tr><td>2018</td><td>3</td><td>A</td><td>6</td><td>1</td><td>White   </td><td>0</td><td>92</td><td>96</td><td>60</td><td>⋯</td><td>0</td><td>1</td><td>Male  </td><td>1</td><td>0</td><td>0</td><td>FALSE</td><td>Yuri Andropov Middle School</td><td>0.34</td><td>412</td></tr>\n",
       "\t<tr><td>2018</td><td>4</td><td>A</td><td>6</td><td>1</td><td>Hispanic</td><td>1</td><td>73</td><td>66</td><td>51</td><td>⋯</td><td>1</td><td>0</td><td>Male  </td><td>1</td><td>0</td><td>0</td><td>FALSE</td><td>Yuri Andropov Middle School</td><td>0.34</td><td>412</td></tr>\n",
       "\t<tr><td>2018</td><td>5</td><td>A</td><td>6</td><td>1</td><td>White   </td><td>0</td><td>91</td><td>90</td><td>60</td><td>⋯</td><td>0</td><td>1</td><td>Male  </td><td>1</td><td>0</td><td>0</td><td>FALSE</td><td>Yuri Andropov Middle School</td><td>0.34</td><td>412</td></tr>\n",
       "\t<tr><td>2018</td><td>6</td><td>A</td><td>6</td><td>2</td><td>Hispanic</td><td>1</td><td>61</td><td>74</td><td>58</td><td>⋯</td><td>1</td><td>0</td><td>Female</td><td>0</td><td>1</td><td>0</td><td>FALSE</td><td>Yuri Andropov Middle School</td><td>0.34</td><td>412</td></tr>\n",
       "</tbody>\n",
       "</table>\n"
      ],
      "text/latex": [
       "A tibble: 6 × 24\n",
       "\\begin{tabular}{lllllllllllllllllllll}\n",
       " sy & stuid & schid & grade & gender\\_old & race & iep & math & ela & sci & ⋯ & hispanic & white & gender & male & female & gender\\_na & is\\_dup & school\\_name & frpl & enrl\\\\\n",
       " <dbl> & <int> & <chr> & <int> & <chr> & <fct> & <int> & <int> & <int> & <int> & ⋯ & <int> & <int> & <fct> & <dbl> & <dbl> & <int> & <lgl> & <chr> & <dbl> & <dbl>\\\\\n",
       "\\hline\n",
       "\t 2018 & 1 & A & 6 & 1 & Black    & 0 & 88 & 74 & 55 & ⋯ & 0 & 0 & Male   & 1 & 0 & 0 & FALSE & Yuri Andropov Middle School & 0.34 & 412\\\\\n",
       "\t 2018 & 2 & A & 6 & 1 & Black    & 0 & 87 & 87 & 54 & ⋯ & 0 & 0 & Male   & 1 & 0 & 0 & FALSE & Yuri Andropov Middle School & 0.34 & 412\\\\\n",
       "\t 2018 & 3 & A & 6 & 1 & White    & 0 & 92 & 96 & 60 & ⋯ & 0 & 1 & Male   & 1 & 0 & 0 & FALSE & Yuri Andropov Middle School & 0.34 & 412\\\\\n",
       "\t 2018 & 4 & A & 6 & 1 & Hispanic & 1 & 73 & 66 & 51 & ⋯ & 1 & 0 & Male   & 1 & 0 & 0 & FALSE & Yuri Andropov Middle School & 0.34 & 412\\\\\n",
       "\t 2018 & 5 & A & 6 & 1 & White    & 0 & 91 & 90 & 60 & ⋯ & 0 & 1 & Male   & 1 & 0 & 0 & FALSE & Yuri Andropov Middle School & 0.34 & 412\\\\\n",
       "\t 2018 & 6 & A & 6 & 2 & Hispanic & 1 & 61 & 74 & 58 & ⋯ & 1 & 0 & Female & 0 & 1 & 0 & FALSE & Yuri Andropov Middle School & 0.34 & 412\\\\\n",
       "\\end{tabular}\n"
      ],
      "text/markdown": [
       "\n",
       "A tibble: 6 × 24\n",
       "\n",
       "| sy &lt;dbl&gt; | stuid &lt;int&gt; | schid &lt;chr&gt; | grade &lt;int&gt; | gender_old &lt;chr&gt; | race &lt;fct&gt; | iep &lt;int&gt; | math &lt;int&gt; | ela &lt;int&gt; | sci &lt;int&gt; | ⋯ ⋯ | hispanic &lt;int&gt; | white &lt;int&gt; | gender &lt;fct&gt; | male &lt;dbl&gt; | female &lt;dbl&gt; | gender_na &lt;int&gt; | is_dup &lt;lgl&gt; | school_name &lt;chr&gt; | frpl &lt;dbl&gt; | enrl &lt;dbl&gt; |\n",
       "|---|---|---|---|---|---|---|---|---|---|---|---|---|---|---|---|---|---|---|---|---|\n",
       "| 2018 | 1 | A | 6 | 1 | Black    | 0 | 88 | 74 | 55 | ⋯ | 0 | 0 | Male   | 1 | 0 | 0 | FALSE | Yuri Andropov Middle School | 0.34 | 412 |\n",
       "| 2018 | 2 | A | 6 | 1 | Black    | 0 | 87 | 87 | 54 | ⋯ | 0 | 0 | Male   | 1 | 0 | 0 | FALSE | Yuri Andropov Middle School | 0.34 | 412 |\n",
       "| 2018 | 3 | A | 6 | 1 | White    | 0 | 92 | 96 | 60 | ⋯ | 0 | 1 | Male   | 1 | 0 | 0 | FALSE | Yuri Andropov Middle School | 0.34 | 412 |\n",
       "| 2018 | 4 | A | 6 | 1 | Hispanic | 1 | 73 | 66 | 51 | ⋯ | 1 | 0 | Male   | 1 | 0 | 0 | FALSE | Yuri Andropov Middle School | 0.34 | 412 |\n",
       "| 2018 | 5 | A | 6 | 1 | White    | 0 | 91 | 90 | 60 | ⋯ | 0 | 1 | Male   | 1 | 0 | 0 | FALSE | Yuri Andropov Middle School | 0.34 | 412 |\n",
       "| 2018 | 6 | A | 6 | 2 | Hispanic | 1 | 61 | 74 | 58 | ⋯ | 1 | 0 | Female | 0 | 1 | 0 | FALSE | Yuri Andropov Middle School | 0.34 | 412 |\n",
       "\n"
      ],
      "text/plain": [
       "  sy   stuid schid grade gender_old race     iep math ela sci ⋯ hispanic white\n",
       "1 2018 1     A     6     1          Black    0   88   74  55  ⋯ 0        0    \n",
       "2 2018 2     A     6     1          Black    0   87   87  54  ⋯ 0        0    \n",
       "3 2018 3     A     6     1          White    0   92   96  60  ⋯ 0        1    \n",
       "4 2018 4     A     6     1          Hispanic 1   73   66  51  ⋯ 1        0    \n",
       "5 2018 5     A     6     1          White    0   91   90  60  ⋯ 0        1    \n",
       "6 2018 6     A     6     2          Hispanic 1   61   74  58  ⋯ 1        0    \n",
       "  gender male female gender_na is_dup school_name                 frpl enrl\n",
       "1 Male   1    0      0         FALSE  Yuri Andropov Middle School 0.34 412 \n",
       "2 Male   1    0      0         FALSE  Yuri Andropov Middle School 0.34 412 \n",
       "3 Male   1    0      0         FALSE  Yuri Andropov Middle School 0.34 412 \n",
       "4 Male   1    0      0         FALSE  Yuri Andropov Middle School 0.34 412 \n",
       "5 Male   1    0      0         FALSE  Yuri Andropov Middle School 0.34 412 \n",
       "6 Female 0    1      0         FALSE  Yuri Andropov Middle School 0.34 412 "
      ]
     },
     "metadata": {},
     "output_type": "display_data"
    },
    {
     "data": {
      "text/html": [
       "<table class=\"dataframe\">\n",
       "<caption>A tibble: 6 × 29</caption>\n",
       "<thead>\n",
       "\t<tr><th scope=col>stuid</th><th scope=col>schid</th><th scope=col>gender_old</th><th scope=col>race</th><th scope=col>asian</th><th scope=col>black</th><th scope=col>hispanic</th><th scope=col>white</th><th scope=col>gender</th><th scope=col>male</th><th scope=col>⋯</th><th scope=col>sci_6</th><th scope=col>sci_7</th><th scope=col>soc_6</th><th scope=col>soc_7</th><th scope=col>oss_6</th><th scope=col>oss_7</th><th scope=col>frpl_6</th><th scope=col>frpl_7</th><th scope=col>enrl_6</th><th scope=col>enrl_7</th></tr>\n",
       "\t<tr><th scope=col>&lt;int&gt;</th><th scope=col>&lt;chr&gt;</th><th scope=col>&lt;chr&gt;</th><th scope=col>&lt;fct&gt;</th><th scope=col>&lt;int&gt;</th><th scope=col>&lt;int&gt;</th><th scope=col>&lt;int&gt;</th><th scope=col>&lt;int&gt;</th><th scope=col>&lt;fct&gt;</th><th scope=col>&lt;dbl&gt;</th><th scope=col>⋯</th><th scope=col>&lt;int&gt;</th><th scope=col>&lt;int&gt;</th><th scope=col>&lt;int&gt;</th><th scope=col>&lt;int&gt;</th><th scope=col>&lt;dbl&gt;</th><th scope=col>&lt;dbl&gt;</th><th scope=col>&lt;dbl&gt;</th><th scope=col>&lt;dbl&gt;</th><th scope=col>&lt;dbl&gt;</th><th scope=col>&lt;dbl&gt;</th></tr>\n",
       "</thead>\n",
       "<tbody>\n",
       "\t<tr><td>1</td><td>A</td><td>1</td><td>Black   </td><td>0</td><td>1</td><td>0</td><td>0</td><td>Male  </td><td>1</td><td>⋯</td><td>55</td><td>55</td><td>82</td><td>NA</td><td>0</td><td>0</td><td>0.34</td><td>0.35</td><td>412</td><td>399</td></tr>\n",
       "\t<tr><td>2</td><td>A</td><td>1</td><td>Black   </td><td>0</td><td>1</td><td>0</td><td>0</td><td>Male  </td><td>1</td><td>⋯</td><td>54</td><td>54</td><td>87</td><td>NA</td><td>0</td><td>0</td><td>0.34</td><td>0.35</td><td>412</td><td>399</td></tr>\n",
       "\t<tr><td>3</td><td>A</td><td>1</td><td>White   </td><td>0</td><td>0</td><td>0</td><td>1</td><td>Male  </td><td>1</td><td>⋯</td><td>60</td><td>59</td><td>94</td><td>NA</td><td>0</td><td>0</td><td>0.34</td><td>0.35</td><td>412</td><td>399</td></tr>\n",
       "\t<tr><td>4</td><td>A</td><td>1</td><td>Hispanic</td><td>0</td><td>0</td><td>1</td><td>0</td><td>Male  </td><td>1</td><td>⋯</td><td>51</td><td>51</td><td>72</td><td>NA</td><td>0</td><td>0</td><td>0.34</td><td>0.35</td><td>412</td><td>399</td></tr>\n",
       "\t<tr><td>5</td><td>A</td><td>1</td><td>White   </td><td>0</td><td>0</td><td>0</td><td>1</td><td>Male  </td><td>1</td><td>⋯</td><td>60</td><td>59</td><td>90</td><td>NA</td><td>0</td><td>0</td><td>0.34</td><td>0.35</td><td>412</td><td>399</td></tr>\n",
       "\t<tr><td>6</td><td>A</td><td>2</td><td>Hispanic</td><td>0</td><td>0</td><td>1</td><td>0</td><td>Female</td><td>0</td><td>⋯</td><td>58</td><td>58</td><td>63</td><td>NA</td><td>0</td><td>0</td><td>0.34</td><td>0.35</td><td>412</td><td>399</td></tr>\n",
       "</tbody>\n",
       "</table>\n"
      ],
      "text/latex": [
       "A tibble: 6 × 29\n",
       "\\begin{tabular}{lllllllllllllllllllll}\n",
       " stuid & schid & gender\\_old & race & asian & black & hispanic & white & gender & male & ⋯ & sci\\_6 & sci\\_7 & soc\\_6 & soc\\_7 & oss\\_6 & oss\\_7 & frpl\\_6 & frpl\\_7 & enrl\\_6 & enrl\\_7\\\\\n",
       " <int> & <chr> & <chr> & <fct> & <int> & <int> & <int> & <int> & <fct> & <dbl> & ⋯ & <int> & <int> & <int> & <int> & <dbl> & <dbl> & <dbl> & <dbl> & <dbl> & <dbl>\\\\\n",
       "\\hline\n",
       "\t 1 & A & 1 & Black    & 0 & 1 & 0 & 0 & Male   & 1 & ⋯ & 55 & 55 & 82 & NA & 0 & 0 & 0.34 & 0.35 & 412 & 399\\\\\n",
       "\t 2 & A & 1 & Black    & 0 & 1 & 0 & 0 & Male   & 1 & ⋯ & 54 & 54 & 87 & NA & 0 & 0 & 0.34 & 0.35 & 412 & 399\\\\\n",
       "\t 3 & A & 1 & White    & 0 & 0 & 0 & 1 & Male   & 1 & ⋯ & 60 & 59 & 94 & NA & 0 & 0 & 0.34 & 0.35 & 412 & 399\\\\\n",
       "\t 4 & A & 1 & Hispanic & 0 & 0 & 1 & 0 & Male   & 1 & ⋯ & 51 & 51 & 72 & NA & 0 & 0 & 0.34 & 0.35 & 412 & 399\\\\\n",
       "\t 5 & A & 1 & White    & 0 & 0 & 0 & 1 & Male   & 1 & ⋯ & 60 & 59 & 90 & NA & 0 & 0 & 0.34 & 0.35 & 412 & 399\\\\\n",
       "\t 6 & A & 2 & Hispanic & 0 & 0 & 1 & 0 & Female & 0 & ⋯ & 58 & 58 & 63 & NA & 0 & 0 & 0.34 & 0.35 & 412 & 399\\\\\n",
       "\\end{tabular}\n"
      ],
      "text/markdown": [
       "\n",
       "A tibble: 6 × 29\n",
       "\n",
       "| stuid &lt;int&gt; | schid &lt;chr&gt; | gender_old &lt;chr&gt; | race &lt;fct&gt; | asian &lt;int&gt; | black &lt;int&gt; | hispanic &lt;int&gt; | white &lt;int&gt; | gender &lt;fct&gt; | male &lt;dbl&gt; | ⋯ ⋯ | sci_6 &lt;int&gt; | sci_7 &lt;int&gt; | soc_6 &lt;int&gt; | soc_7 &lt;int&gt; | oss_6 &lt;dbl&gt; | oss_7 &lt;dbl&gt; | frpl_6 &lt;dbl&gt; | frpl_7 &lt;dbl&gt; | enrl_6 &lt;dbl&gt; | enrl_7 &lt;dbl&gt; |\n",
       "|---|---|---|---|---|---|---|---|---|---|---|---|---|---|---|---|---|---|---|---|---|\n",
       "| 1 | A | 1 | Black    | 0 | 1 | 0 | 0 | Male   | 1 | ⋯ | 55 | 55 | 82 | NA | 0 | 0 | 0.34 | 0.35 | 412 | 399 |\n",
       "| 2 | A | 1 | Black    | 0 | 1 | 0 | 0 | Male   | 1 | ⋯ | 54 | 54 | 87 | NA | 0 | 0 | 0.34 | 0.35 | 412 | 399 |\n",
       "| 3 | A | 1 | White    | 0 | 0 | 0 | 1 | Male   | 1 | ⋯ | 60 | 59 | 94 | NA | 0 | 0 | 0.34 | 0.35 | 412 | 399 |\n",
       "| 4 | A | 1 | Hispanic | 0 | 0 | 1 | 0 | Male   | 1 | ⋯ | 51 | 51 | 72 | NA | 0 | 0 | 0.34 | 0.35 | 412 | 399 |\n",
       "| 5 | A | 1 | White    | 0 | 0 | 0 | 1 | Male   | 1 | ⋯ | 60 | 59 | 90 | NA | 0 | 0 | 0.34 | 0.35 | 412 | 399 |\n",
       "| 6 | A | 2 | Hispanic | 0 | 0 | 1 | 0 | Female | 0 | ⋯ | 58 | 58 | 63 | NA | 0 | 0 | 0.34 | 0.35 | 412 | 399 |\n",
       "\n"
      ],
      "text/plain": [
       "  stuid schid gender_old race     asian black hispanic white gender male ⋯\n",
       "1 1     A     1          Black    0     1     0        0     Male   1    ⋯\n",
       "2 2     A     1          Black    0     1     0        0     Male   1    ⋯\n",
       "3 3     A     1          White    0     0     0        1     Male   1    ⋯\n",
       "4 4     A     1          Hispanic 0     0     1        0     Male   1    ⋯\n",
       "5 5     A     1          White    0     0     0        1     Male   1    ⋯\n",
       "6 6     A     2          Hispanic 0     0     1        0     Female 0    ⋯\n",
       "  sci_6 sci_7 soc_6 soc_7 oss_6 oss_7 frpl_6 frpl_7 enrl_6 enrl_7\n",
       "1 55    55    82    NA    0     0     0.34   0.35   412    399   \n",
       "2 54    54    87    NA    0     0     0.34   0.35   412    399   \n",
       "3 60    59    94    NA    0     0     0.34   0.35   412    399   \n",
       "4 51    51    72    NA    0     0     0.34   0.35   412    399   \n",
       "5 60    59    90    NA    0     0     0.34   0.35   412    399   \n",
       "6 58    58    63    NA    0     0     0.34   0.35   412    399   "
      ]
     },
     "metadata": {},
     "output_type": "display_data"
    }
   ],
   "source": [
    "# Read long and wide analysis files.\n",
    "# This loads the two datasets we created into the same namespaces.\n",
    "load(DTA)\n",
    "head(stu_sch_long)\n",
    "head(stu_sch_wide)"
   ]
  },
  {
   "cell_type": "code",
   "execution_count": 4,
   "metadata": {
    "vscode": {
     "languageId": "r"
    }
   },
   "outputs": [
    {
     "name": "stderr",
     "output_type": "stream",
     "text": [
      "Warning message:\n",
      "\"\u001b[1m\u001b[22mRemoved 8 rows containing missing values (`geom_point()`).\"\n"
     ]
    },
    {
     "data": {
      "image/png": "[encoded data removed]",
      "text/plain": [
       "plot without title"
      ]
     },
     "metadata": {
      "image/png": {
       "height": 420,
       "width": 420
      }
     },
     "output_type": "display_data"
    }
   ],
   "source": [
    "# Plot test scores by race.\n",
    "# Transform data so that each point on the plot is a separate row.\n",
    "stu_sch_long |>\n",
    "  select(stuid, grade, gender, race, math, ela) |>\n",
    "  filter(!is.na(gender)) |>\n",
    "  # Reshape long on test subject.\n",
    "  pivot_longer(\n",
    "    cols = c(math, ela),\n",
    "    names_to = \"test_subj\",\n",
    "    values_to = \"test_val\"\n",
    "  ) |>\n",
    "  # Reshape wide on grade.\n",
    "  pivot_wider(\n",
    "    names_from = grade,\n",
    "    names_prefix = \"grade_\",\n",
    "    values_from = test_val\n",
    "  ) |>\n",
    "  # Draw plot.\n",
    "  ggplot(aes(x = grade_6, y = grade_7, color = race)) +\n",
    "  geom_point() +\n",
    "  geom_abline() +\n",
    "  facet_wrap(\n",
    "    facets = vars(gender, test_subj),\n",
    "    labeller = labeller(test_subj = as_labeller(c(\n",
    "      \"math\" = \"Math\",\n",
    "      \"ela\" = \"English/Language Arts\"\n",
    "    )))\n",
    "  ) +\n",
    "  labs(\n",
    "    title = \"Math and ELA test score growth by gender and race\",\n",
    "    x = \"6th grade score\",\n",
    "    y = \"7th grade score\",\n",
    "    color = \"Race\"\n",
    "  ) +\n",
    "  theme_minimal()"
   ]
  },
  {
   "cell_type": "code",
   "execution_count": 5,
   "metadata": {
    "vscode": {
     "languageId": "r"
    }
   },
   "outputs": [
    {
     "name": "stderr",
     "output_type": "stream",
     "text": [
      "\u001b[1m\u001b[22mSaving 6.67 x 6.67 in image\n",
      "Warning message:\n",
      "\"\u001b[1m\u001b[22mRemoved 8 rows containing missing values (`geom_point()`).\"\n"
     ]
    }
   ],
   "source": [
    "# Save the figure.\n",
    "ggsave(FIG)"
   ]
  },
  {
   "cell_type": "code",
   "execution_count": 6,
   "metadata": {
    "vscode": {
     "languageId": "r"
    }
   },
   "outputs": [
    {
     "name": "stderr",
     "output_type": "stream",
     "text": [
      "\u001b[1m\u001b[22m`summarise()` has grouped output by 'grade'. You can override using the\n",
      "`.groups` argument.\n"
     ]
    },
    {
     "data": {
      "text/html": [
       "<table class=\"dataframe\">\n",
       "<caption>A grouped_df: 4 × 6</caption>\n",
       "<thead>\n",
       "\t<tr><th scope=col>grade</th><th scope=col>female</th><th scope=col>math</th><th scope=col>ela</th><th scope=col>sci</th><th scope=col>soc</th></tr>\n",
       "\t<tr><th scope=col>&lt;int&gt;</th><th scope=col>&lt;dbl&gt;</th><th scope=col>&lt;dbl&gt;</th><th scope=col>&lt;dbl&gt;</th><th scope=col>&lt;dbl&gt;</th><th scope=col>&lt;dbl&gt;</th></tr>\n",
       "</thead>\n",
       "<tbody>\n",
       "\t<tr><td>6</td><td>0</td><td>81.98387</td><td>81.17742</td><td>57.67742</td><td>81.46774</td></tr>\n",
       "\t<tr><td>6</td><td>1</td><td>67.60000</td><td>69.77143</td><td>58.68571</td><td>68.37143</td></tr>\n",
       "\t<tr><td>7</td><td>0</td><td>82.19048</td><td>82.28571</td><td>57.53968</td><td>     NaN</td></tr>\n",
       "\t<tr><td>7</td><td>1</td><td>67.47222</td><td>65.80556</td><td>58.55556</td><td>     NaN</td></tr>\n",
       "</tbody>\n",
       "</table>\n"
      ],
      "text/latex": [
       "A grouped\\_df: 4 × 6\n",
       "\\begin{tabular}{llllll}\n",
       " grade & female & math & ela & sci & soc\\\\\n",
       " <int> & <dbl> & <dbl> & <dbl> & <dbl> & <dbl>\\\\\n",
       "\\hline\n",
       "\t 6 & 0 & 81.98387 & 81.17742 & 57.67742 & 81.46774\\\\\n",
       "\t 6 & 1 & 67.60000 & 69.77143 & 58.68571 & 68.37143\\\\\n",
       "\t 7 & 0 & 82.19048 & 82.28571 & 57.53968 &      NaN\\\\\n",
       "\t 7 & 1 & 67.47222 & 65.80556 & 58.55556 &      NaN\\\\\n",
       "\\end{tabular}\n"
      ],
      "text/markdown": [
       "\n",
       "A grouped_df: 4 × 6\n",
       "\n",
       "| grade &lt;int&gt; | female &lt;dbl&gt; | math &lt;dbl&gt; | ela &lt;dbl&gt; | sci &lt;dbl&gt; | soc &lt;dbl&gt; |\n",
       "|---|---|---|---|---|---|\n",
       "| 6 | 0 | 81.98387 | 81.17742 | 57.67742 | 81.46774 |\n",
       "| 6 | 1 | 67.60000 | 69.77143 | 58.68571 | 68.37143 |\n",
       "| 7 | 0 | 82.19048 | 82.28571 | 57.53968 |      NaN |\n",
       "| 7 | 1 | 67.47222 | 65.80556 | 58.55556 |      NaN |\n",
       "\n"
      ],
      "text/plain": [
       "  grade female math     ela      sci      soc     \n",
       "1 6     0      81.98387 81.17742 57.67742 81.46774\n",
       "2 6     1      67.60000 69.77143 58.68571 68.37143\n",
       "3 7     0      82.19048 82.28571 57.53968      NaN\n",
       "4 7     1      67.47222 65.80556 58.55556      NaN"
      ]
     },
     "metadata": {},
     "output_type": "display_data"
    }
   ],
   "source": [
    "# Calculate unadjusted means by grade and gender.\n",
    "tab1 <- stu_sch_long |>\n",
    "  group_by(grade, female) |>\n",
    "  summarize(across(c(math, ela, sci, soc), ~ mean(.x, na.rm = TRUE)))\n",
    "tab1"
   ]
  },
  {
   "cell_type": "code",
   "execution_count": 7,
   "metadata": {
    "vscode": {
     "languageId": "r"
    }
   },
   "outputs": [
    {
     "data": {
      "text/plain": [
       "\n",
       "Call:\n",
       "lm(formula = math_7 ~ female + math_6, data = stu_sch_wide)\n",
       "\n",
       "Residuals:\n",
       "     Min       1Q   Median       3Q      Max \n",
       "-2.34048 -0.62126 -0.01453  0.74029  2.29797 \n",
       "\n",
       "Coefficients:\n",
       "             Estimate Std. Error t value Pr(>|t|)    \n",
       "(Intercept)  1.269332   0.651592   1.948   0.0544 .  \n",
       "female      -0.530755   0.223631  -2.373   0.0197 *  \n",
       "math_6       0.986538   0.007807 126.358   <2e-16 ***\n",
       "---\n",
       "Signif. codes:  0 '***' 0.001 '**' 0.01 '*' 0.05 '.' 0.1 ' ' 1\n",
       "\n",
       "Residual standard error: 0.9092 on 93 degrees of freedom\n",
       "  (4 observations deleted due to missingness)\n",
       "Multiple R-squared:  0.9958,\tAdjusted R-squared:  0.9957 \n",
       "F-statistic: 1.095e+04 on 2 and 93 DF,  p-value: < 2.2e-16\n"
      ]
     },
     "metadata": {},
     "output_type": "display_data"
    }
   ],
   "source": [
    "# Estimate differences in math scores by gender, conditional on prior scores.\n",
    "# Growth among students classified as female decreased by 0.5 points on average.\n",
    "# Results are statistically different from zero at the 5% level.\n",
    "reg1 <- lm(math_7 ~ female + math_6, data = stu_sch_wide)\n",
    "summary(reg1)"
   ]
  },
  {
   "cell_type": "code",
   "execution_count": 8,
   "metadata": {
    "vscode": {
     "languageId": "r"
    }
   },
   "outputs": [
    {
     "data": {
      "text/plain": [
       "\n",
       "Call:\n",
       "lm(formula = ela_7 ~ race + ela_6, data = stu_sch_wide)\n",
       "\n",
       "Residuals:\n",
       "     Min       1Q   Median       3Q      Max \n",
       "-24.9158  -7.3151   0.8416   7.7402  23.8893 \n",
       "\n",
       "Coefficients:\n",
       "             Estimate Std. Error t value Pr(>|t|)    \n",
       "(Intercept)  23.34979    8.21017   2.844   0.0055 ** \n",
       "raceAsian     5.18597    5.22771   0.992   0.3238    \n",
       "raceBlack    -2.15344    3.52605  -0.611   0.5429    \n",
       "raceHispanic -1.30132    3.52755  -0.369   0.7131    \n",
       "ela_6         0.69792    0.08706   8.016 3.54e-12 ***\n",
       "---\n",
       "Signif. codes:  0 '***' 0.001 '**' 0.01 '*' 0.05 '.' 0.1 ' ' 1\n",
       "\n",
       "Residual standard error: 11.01 on 91 degrees of freedom\n",
       "  (4 observations deleted due to missingness)\n",
       "Multiple R-squared:  0.5116,\tAdjusted R-squared:  0.4902 \n",
       "F-statistic: 23.83 on 4 and 91 DF,  p-value: 1.671e-13\n"
      ]
     },
     "metadata": {},
     "output_type": "display_data"
    }
   ],
   "source": [
    "# Set the reference group in the race category to White.\n",
    "stu_sch_wide$race <- relevel(stu_sch_wide$race, ref = \"White\")\n",
    "\n",
    "# Estimate differences in ELA scores by race, conditional on prior scores.\n",
    "# Disparities in growth are not statistically different from zero.\n",
    "reg2 <- lm(ela_7 ~ race + ela_6, data = stu_sch_wide)\n",
    "summary(reg2)"
   ]
  },
  {
   "cell_type": "code",
   "execution_count": 9,
   "metadata": {
    "vscode": {
     "languageId": "r"
    }
   },
   "outputs": [],
   "source": [
    "# Collect regression output.\n",
    "regs <- list(\"math_female\" = reg1, \"ela_race\" = reg2) |>\n",
    "  lapply(tidy) |>\n",
    "  bind_rows(.id = \"model\")\n",
    "\n",
    "# Save tabulation and regression output to Excel.\n",
    "ws <- list(\"summaries\" = tab1, \"models\" = regs)\n",
    "write.xlsx(ws, OUT)"
   ]
  }
 ],
 "metadata": {
  "kernelspec": {
   "display_name": "R",
   "language": "R",
   "name": "ir"
  },
  "language_info": {
   "codemirror_mode": "r",
   "file_extension": ".r",
   "mimetype": "text/x-r-source",
   "name": "R",
   "pygments_lexer": "r",
   "version": "4.3.2"
  }
 },
 "nbformat": 4,
 "nbformat_minor": 2
}
