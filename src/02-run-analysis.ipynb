{
 "cells": [
  {
   "cell_type": "markdown",
   "metadata": {},
   "source": [
    "# Run analysis\n",
    "\n",
    "Imagine we want to measure student achievement and growth in seventh grade. We have data that follow students from sixth to seventh grade and describe their demographic characteristics and exit exam scores in core subjects. This notebook walks through common data analysis tasks on an example clean dataset. The code explores relationships in the data with plots, tables, and regressions."
   ]
  },
  {
   "cell_type": "code",
   "execution_count": 1,
   "metadata": {
    "vscode": {
     "languageId": "r"
    }
   },
   "outputs": [
    {
     "name": "stderr",
     "output_type": "stream",
     "text": [
      "\n",
      "Attaching package: 'dplyr'\n",
      "\n",
      "\n",
      "The following objects are masked from 'package:stats':\n",
      "\n",
      "    filter, lag\n",
      "\n",
      "\n",
      "The following objects are masked from 'package:base':\n",
      "\n",
      "    intersect, setdiff, setequal, union\n",
      "\n",
      "\n"
     ]
    }
   ],
   "source": [
    "# Load packages.\n",
    "library(dplyr)\n",
    "library(tidyr)\n",
    "library(ggplot2)\n",
    "library(broom)\n",
    "library(openxlsx)"
   ]
  },
  {
   "cell_type": "code",
   "execution_count": 2,
   "metadata": {
    "vscode": {
     "languageId": "r"
    }
   },
   "outputs": [],
   "source": [
    "# Identify inputs and outputs.\n",
    "PWD <- file.path(getwd(), \"..\")\n",
    "DTA <- file.path(PWD, \"out\", \"data.rda\")\n",
    "FIG <- file.path(PWD, \"out\", \"plot.png\")\n",
    "OUT <- file.path(PWD, \"out\", \"analysis.xlsx\")"
   ]
  },
  {
   "cell_type": "code",
   "execution_count": 3,
   "metadata": {
    "vscode": {
     "languageId": "r"
    }
   },
   "outputs": [
    {
     "data": {
      "text/html": [
       "<table class=\"dataframe\">\n",
       "<caption>A tibble: 6 × 25</caption>\n",
       "<thead>\n",
       "\t<tr><th scope=col>sy</th><th scope=col>stuid</th><th scope=col>schid</th><th scope=col>grade</th><th scope=col>dob</th><th scope=col>gender_old</th><th scope=col>race</th><th scope=col>iep</th><th scope=col>math</th><th scope=col>ela</th><th scope=col>⋯</th><th scope=col>hispanic</th><th scope=col>white</th><th scope=col>gender</th><th scope=col>male</th><th scope=col>female</th><th scope=col>gender_na</th><th scope=col>is_dup</th><th scope=col>school_name</th><th scope=col>frpl</th><th scope=col>enrl</th></tr>\n",
       "\t<tr><th scope=col>&lt;dbl&gt;</th><th scope=col>&lt;int&gt;</th><th scope=col>&lt;chr&gt;</th><th scope=col>&lt;int&gt;</th><th scope=col>&lt;date&gt;</th><th scope=col>&lt;chr&gt;</th><th scope=col>&lt;fct&gt;</th><th scope=col>&lt;int&gt;</th><th scope=col>&lt;int&gt;</th><th scope=col>&lt;int&gt;</th><th scope=col>⋯</th><th scope=col>&lt;int&gt;</th><th scope=col>&lt;int&gt;</th><th scope=col>&lt;fct&gt;</th><th scope=col>&lt;dbl&gt;</th><th scope=col>&lt;dbl&gt;</th><th scope=col>&lt;int&gt;</th><th scope=col>&lt;lgl&gt;</th><th scope=col>&lt;chr&gt;</th><th scope=col>&lt;dbl&gt;</th><th scope=col>&lt;dbl&gt;</th></tr>\n",
       "</thead>\n",
       "<tbody>\n",
       "\t<tr><td>2018</td><td>1</td><td>A</td><td>6</td><td>2007-08-05</td><td>2</td><td>Black   </td><td>1</td><td>63</td><td>60</td><td>⋯</td><td>0</td><td>0</td><td>Female</td><td>0</td><td>1</td><td>0</td><td>FALSE</td><td>Yuri Andropov Middle School</td><td>0.34</td><td>412</td></tr>\n",
       "\t<tr><td>2018</td><td>2</td><td>A</td><td>6</td><td>2007-02-26</td><td>1</td><td>Hispanic</td><td>0</td><td>86</td><td>91</td><td>⋯</td><td>1</td><td>0</td><td>Male  </td><td>1</td><td>0</td><td>0</td><td>FALSE</td><td>Yuri Andropov Middle School</td><td>0.34</td><td>412</td></tr>\n",
       "\t<tr><td>2018</td><td>3</td><td>A</td><td>6</td><td>2007-03-13</td><td>1</td><td>Black   </td><td>1</td><td>68</td><td>83</td><td>⋯</td><td>0</td><td>0</td><td>Male  </td><td>1</td><td>0</td><td>0</td><td>FALSE</td><td>Yuri Andropov Middle School</td><td>0.34</td><td>412</td></tr>\n",
       "\t<tr><td>2018</td><td>4</td><td>A</td><td>6</td><td>2006-11-07</td><td>2</td><td>White   </td><td>0</td><td>77</td><td>86</td><td>⋯</td><td>0</td><td>1</td><td>Female</td><td>0</td><td>1</td><td>0</td><td>FALSE</td><td>Yuri Andropov Middle School</td><td>0.34</td><td>412</td></tr>\n",
       "\t<tr><td>2018</td><td>5</td><td>A</td><td>6</td><td>2007-04-15</td><td>2</td><td>White   </td><td>0</td><td>89</td><td>95</td><td>⋯</td><td>0</td><td>1</td><td>Female</td><td>0</td><td>1</td><td>0</td><td>FALSE</td><td>Yuri Andropov Middle School</td><td>0.34</td><td>412</td></tr>\n",
       "\t<tr><td>2018</td><td>6</td><td>A</td><td>6</td><td>2007-04-18</td><td>2</td><td>Hispanic</td><td>1</td><td>61</td><td>52</td><td>⋯</td><td>1</td><td>0</td><td>Female</td><td>0</td><td>1</td><td>0</td><td>FALSE</td><td>Yuri Andropov Middle School</td><td>0.34</td><td>412</td></tr>\n",
       "</tbody>\n",
       "</table>\n"
      ],
      "text/latex": [
       "A tibble: 6 × 25\n",
       "\\begin{tabular}{lllllllllllllllllllll}\n",
       " sy & stuid & schid & grade & dob & gender\\_old & race & iep & math & ela & ⋯ & hispanic & white & gender & male & female & gender\\_na & is\\_dup & school\\_name & frpl & enrl\\\\\n",
       " <dbl> & <int> & <chr> & <int> & <date> & <chr> & <fct> & <int> & <int> & <int> & ⋯ & <int> & <int> & <fct> & <dbl> & <dbl> & <int> & <lgl> & <chr> & <dbl> & <dbl>\\\\\n",
       "\\hline\n",
       "\t 2018 & 1 & A & 6 & 2007-08-05 & 2 & Black    & 1 & 63 & 60 & ⋯ & 0 & 0 & Female & 0 & 1 & 0 & FALSE & Yuri Andropov Middle School & 0.34 & 412\\\\\n",
       "\t 2018 & 2 & A & 6 & 2007-02-26 & 1 & Hispanic & 0 & 86 & 91 & ⋯ & 1 & 0 & Male   & 1 & 0 & 0 & FALSE & Yuri Andropov Middle School & 0.34 & 412\\\\\n",
       "\t 2018 & 3 & A & 6 & 2007-03-13 & 1 & Black    & 1 & 68 & 83 & ⋯ & 0 & 0 & Male   & 1 & 0 & 0 & FALSE & Yuri Andropov Middle School & 0.34 & 412\\\\\n",
       "\t 2018 & 4 & A & 6 & 2006-11-07 & 2 & White    & 0 & 77 & 86 & ⋯ & 0 & 1 & Female & 0 & 1 & 0 & FALSE & Yuri Andropov Middle School & 0.34 & 412\\\\\n",
       "\t 2018 & 5 & A & 6 & 2007-04-15 & 2 & White    & 0 & 89 & 95 & ⋯ & 0 & 1 & Female & 0 & 1 & 0 & FALSE & Yuri Andropov Middle School & 0.34 & 412\\\\\n",
       "\t 2018 & 6 & A & 6 & 2007-04-18 & 2 & Hispanic & 1 & 61 & 52 & ⋯ & 1 & 0 & Female & 0 & 1 & 0 & FALSE & Yuri Andropov Middle School & 0.34 & 412\\\\\n",
       "\\end{tabular}\n"
      ],
      "text/markdown": [
       "\n",
       "A tibble: 6 × 25\n",
       "\n",
       "| sy &lt;dbl&gt; | stuid &lt;int&gt; | schid &lt;chr&gt; | grade &lt;int&gt; | dob &lt;date&gt; | gender_old &lt;chr&gt; | race &lt;fct&gt; | iep &lt;int&gt; | math &lt;int&gt; | ela &lt;int&gt; | ⋯ ⋯ | hispanic &lt;int&gt; | white &lt;int&gt; | gender &lt;fct&gt; | male &lt;dbl&gt; | female &lt;dbl&gt; | gender_na &lt;int&gt; | is_dup &lt;lgl&gt; | school_name &lt;chr&gt; | frpl &lt;dbl&gt; | enrl &lt;dbl&gt; |\n",
       "|---|---|---|---|---|---|---|---|---|---|---|---|---|---|---|---|---|---|---|---|---|\n",
       "| 2018 | 1 | A | 6 | 2007-08-05 | 2 | Black    | 1 | 63 | 60 | ⋯ | 0 | 0 | Female | 0 | 1 | 0 | FALSE | Yuri Andropov Middle School | 0.34 | 412 |\n",
       "| 2018 | 2 | A | 6 | 2007-02-26 | 1 | Hispanic | 0 | 86 | 91 | ⋯ | 1 | 0 | Male   | 1 | 0 | 0 | FALSE | Yuri Andropov Middle School | 0.34 | 412 |\n",
       "| 2018 | 3 | A | 6 | 2007-03-13 | 1 | Black    | 1 | 68 | 83 | ⋯ | 0 | 0 | Male   | 1 | 0 | 0 | FALSE | Yuri Andropov Middle School | 0.34 | 412 |\n",
       "| 2018 | 4 | A | 6 | 2006-11-07 | 2 | White    | 0 | 77 | 86 | ⋯ | 0 | 1 | Female | 0 | 1 | 0 | FALSE | Yuri Andropov Middle School | 0.34 | 412 |\n",
       "| 2018 | 5 | A | 6 | 2007-04-15 | 2 | White    | 0 | 89 | 95 | ⋯ | 0 | 1 | Female | 0 | 1 | 0 | FALSE | Yuri Andropov Middle School | 0.34 | 412 |\n",
       "| 2018 | 6 | A | 6 | 2007-04-18 | 2 | Hispanic | 1 | 61 | 52 | ⋯ | 1 | 0 | Female | 0 | 1 | 0 | FALSE | Yuri Andropov Middle School | 0.34 | 412 |\n",
       "\n"
      ],
      "text/plain": [
       "  sy   stuid schid grade dob        gender_old race     iep math ela ⋯ hispanic\n",
       "1 2018 1     A     6     2007-08-05 2          Black    1   63   60  ⋯ 0       \n",
       "2 2018 2     A     6     2007-02-26 1          Hispanic 0   86   91  ⋯ 1       \n",
       "3 2018 3     A     6     2007-03-13 1          Black    1   68   83  ⋯ 0       \n",
       "4 2018 4     A     6     2006-11-07 2          White    0   77   86  ⋯ 0       \n",
       "5 2018 5     A     6     2007-04-15 2          White    0   89   95  ⋯ 0       \n",
       "6 2018 6     A     6     2007-04-18 2          Hispanic 1   61   52  ⋯ 1       \n",
       "  white gender male female gender_na is_dup school_name                 frpl\n",
       "1 0     Female 0    1      0         FALSE  Yuri Andropov Middle School 0.34\n",
       "2 0     Male   1    0      0         FALSE  Yuri Andropov Middle School 0.34\n",
       "3 0     Male   1    0      0         FALSE  Yuri Andropov Middle School 0.34\n",
       "4 1     Female 0    1      0         FALSE  Yuri Andropov Middle School 0.34\n",
       "5 1     Female 0    1      0         FALSE  Yuri Andropov Middle School 0.34\n",
       "6 0     Female 0    1      0         FALSE  Yuri Andropov Middle School 0.34\n",
       "  enrl\n",
       "1 412 \n",
       "2 412 \n",
       "3 412 \n",
       "4 412 \n",
       "5 412 \n",
       "6 412 "
      ]
     },
     "metadata": {},
     "output_type": "display_data"
    },
    {
     "data": {
      "text/html": [
       "<table class=\"dataframe\">\n",
       "<caption>A tibble: 6 × 30</caption>\n",
       "<thead>\n",
       "\t<tr><th scope=col>stuid</th><th scope=col>schid</th><th scope=col>dob</th><th scope=col>gender_old</th><th scope=col>race</th><th scope=col>asian</th><th scope=col>black</th><th scope=col>hispanic</th><th scope=col>white</th><th scope=col>gender</th><th scope=col>⋯</th><th scope=col>sci_6</th><th scope=col>sci_7</th><th scope=col>soc_6</th><th scope=col>soc_7</th><th scope=col>oss_6</th><th scope=col>oss_7</th><th scope=col>frpl_6</th><th scope=col>frpl_7</th><th scope=col>enrl_6</th><th scope=col>enrl_7</th></tr>\n",
       "\t<tr><th scope=col>&lt;int&gt;</th><th scope=col>&lt;chr&gt;</th><th scope=col>&lt;date&gt;</th><th scope=col>&lt;chr&gt;</th><th scope=col>&lt;fct&gt;</th><th scope=col>&lt;int&gt;</th><th scope=col>&lt;int&gt;</th><th scope=col>&lt;int&gt;</th><th scope=col>&lt;int&gt;</th><th scope=col>&lt;fct&gt;</th><th scope=col>⋯</th><th scope=col>&lt;int&gt;</th><th scope=col>&lt;int&gt;</th><th scope=col>&lt;int&gt;</th><th scope=col>&lt;int&gt;</th><th scope=col>&lt;dbl&gt;</th><th scope=col>&lt;dbl&gt;</th><th scope=col>&lt;dbl&gt;</th><th scope=col>&lt;dbl&gt;</th><th scope=col>&lt;dbl&gt;</th><th scope=col>&lt;dbl&gt;</th></tr>\n",
       "</thead>\n",
       "<tbody>\n",
       "\t<tr><td>1</td><td>A</td><td>2007-08-05</td><td>2</td><td>Black   </td><td>0</td><td>1</td><td>0</td><td>0</td><td>Female</td><td>⋯</td><td>57</td><td>56</td><td>62</td><td>NA</td><td>0</td><td>0</td><td>0.34</td><td>0.35</td><td>412</td><td>399</td></tr>\n",
       "\t<tr><td>2</td><td>A</td><td>2007-02-26</td><td>1</td><td>Hispanic</td><td>0</td><td>0</td><td>1</td><td>0</td><td>Male  </td><td>⋯</td><td>53</td><td>53</td><td>87</td><td>NA</td><td>0</td><td>0</td><td>0.34</td><td>0.35</td><td>412</td><td>399</td></tr>\n",
       "\t<tr><td>3</td><td>A</td><td>2007-03-13</td><td>1</td><td>Black   </td><td>0</td><td>1</td><td>0</td><td>0</td><td>Male  </td><td>⋯</td><td>54</td><td>53</td><td>74</td><td>NA</td><td>0</td><td>0</td><td>0.34</td><td>0.35</td><td>412</td><td>399</td></tr>\n",
       "\t<tr><td>4</td><td>A</td><td>2006-11-07</td><td>2</td><td>White   </td><td>0</td><td>0</td><td>0</td><td>1</td><td>Female</td><td>⋯</td><td>51</td><td>51</td><td>84</td><td>NA</td><td>0</td><td>0</td><td>0.34</td><td>0.35</td><td>412</td><td>399</td></tr>\n",
       "\t<tr><td>5</td><td>A</td><td>2007-04-15</td><td>2</td><td>White   </td><td>0</td><td>0</td><td>0</td><td>1</td><td>Female</td><td>⋯</td><td>57</td><td>56</td><td>93</td><td>NA</td><td>0</td><td>0</td><td>0.34</td><td>0.35</td><td>412</td><td>399</td></tr>\n",
       "\t<tr><td>6</td><td>A</td><td>2007-04-18</td><td>2</td><td>Hispanic</td><td>0</td><td>0</td><td>1</td><td>0</td><td>Female</td><td>⋯</td><td>57</td><td>58</td><td>57</td><td>NA</td><td>0</td><td>0</td><td>0.34</td><td>0.35</td><td>412</td><td>399</td></tr>\n",
       "</tbody>\n",
       "</table>\n"
      ],
      "text/latex": [
       "A tibble: 6 × 30\n",
       "\\begin{tabular}{lllllllllllllllllllll}\n",
       " stuid & schid & dob & gender\\_old & race & asian & black & hispanic & white & gender & ⋯ & sci\\_6 & sci\\_7 & soc\\_6 & soc\\_7 & oss\\_6 & oss\\_7 & frpl\\_6 & frpl\\_7 & enrl\\_6 & enrl\\_7\\\\\n",
       " <int> & <chr> & <date> & <chr> & <fct> & <int> & <int> & <int> & <int> & <fct> & ⋯ & <int> & <int> & <int> & <int> & <dbl> & <dbl> & <dbl> & <dbl> & <dbl> & <dbl>\\\\\n",
       "\\hline\n",
       "\t 1 & A & 2007-08-05 & 2 & Black    & 0 & 1 & 0 & 0 & Female & ⋯ & 57 & 56 & 62 & NA & 0 & 0 & 0.34 & 0.35 & 412 & 399\\\\\n",
       "\t 2 & A & 2007-02-26 & 1 & Hispanic & 0 & 0 & 1 & 0 & Male   & ⋯ & 53 & 53 & 87 & NA & 0 & 0 & 0.34 & 0.35 & 412 & 399\\\\\n",
       "\t 3 & A & 2007-03-13 & 1 & Black    & 0 & 1 & 0 & 0 & Male   & ⋯ & 54 & 53 & 74 & NA & 0 & 0 & 0.34 & 0.35 & 412 & 399\\\\\n",
       "\t 4 & A & 2006-11-07 & 2 & White    & 0 & 0 & 0 & 1 & Female & ⋯ & 51 & 51 & 84 & NA & 0 & 0 & 0.34 & 0.35 & 412 & 399\\\\\n",
       "\t 5 & A & 2007-04-15 & 2 & White    & 0 & 0 & 0 & 1 & Female & ⋯ & 57 & 56 & 93 & NA & 0 & 0 & 0.34 & 0.35 & 412 & 399\\\\\n",
       "\t 6 & A & 2007-04-18 & 2 & Hispanic & 0 & 0 & 1 & 0 & Female & ⋯ & 57 & 58 & 57 & NA & 0 & 0 & 0.34 & 0.35 & 412 & 399\\\\\n",
       "\\end{tabular}\n"
      ],
      "text/markdown": [
       "\n",
       "A tibble: 6 × 30\n",
       "\n",
       "| stuid &lt;int&gt; | schid &lt;chr&gt; | dob &lt;date&gt; | gender_old &lt;chr&gt; | race &lt;fct&gt; | asian &lt;int&gt; | black &lt;int&gt; | hispanic &lt;int&gt; | white &lt;int&gt; | gender &lt;fct&gt; | ⋯ ⋯ | sci_6 &lt;int&gt; | sci_7 &lt;int&gt; | soc_6 &lt;int&gt; | soc_7 &lt;int&gt; | oss_6 &lt;dbl&gt; | oss_7 &lt;dbl&gt; | frpl_6 &lt;dbl&gt; | frpl_7 &lt;dbl&gt; | enrl_6 &lt;dbl&gt; | enrl_7 &lt;dbl&gt; |\n",
       "|---|---|---|---|---|---|---|---|---|---|---|---|---|---|---|---|---|---|---|---|---|\n",
       "| 1 | A | 2007-08-05 | 2 | Black    | 0 | 1 | 0 | 0 | Female | ⋯ | 57 | 56 | 62 | NA | 0 | 0 | 0.34 | 0.35 | 412 | 399 |\n",
       "| 2 | A | 2007-02-26 | 1 | Hispanic | 0 | 0 | 1 | 0 | Male   | ⋯ | 53 | 53 | 87 | NA | 0 | 0 | 0.34 | 0.35 | 412 | 399 |\n",
       "| 3 | A | 2007-03-13 | 1 | Black    | 0 | 1 | 0 | 0 | Male   | ⋯ | 54 | 53 | 74 | NA | 0 | 0 | 0.34 | 0.35 | 412 | 399 |\n",
       "| 4 | A | 2006-11-07 | 2 | White    | 0 | 0 | 0 | 1 | Female | ⋯ | 51 | 51 | 84 | NA | 0 | 0 | 0.34 | 0.35 | 412 | 399 |\n",
       "| 5 | A | 2007-04-15 | 2 | White    | 0 | 0 | 0 | 1 | Female | ⋯ | 57 | 56 | 93 | NA | 0 | 0 | 0.34 | 0.35 | 412 | 399 |\n",
       "| 6 | A | 2007-04-18 | 2 | Hispanic | 0 | 0 | 1 | 0 | Female | ⋯ | 57 | 58 | 57 | NA | 0 | 0 | 0.34 | 0.35 | 412 | 399 |\n",
       "\n"
      ],
      "text/plain": [
       "  stuid schid dob        gender_old race     asian black hispanic white gender\n",
       "1 1     A     2007-08-05 2          Black    0     1     0        0     Female\n",
       "2 2     A     2007-02-26 1          Hispanic 0     0     1        0     Male  \n",
       "3 3     A     2007-03-13 1          Black    0     1     0        0     Male  \n",
       "4 4     A     2006-11-07 2          White    0     0     0        1     Female\n",
       "5 5     A     2007-04-15 2          White    0     0     0        1     Female\n",
       "6 6     A     2007-04-18 2          Hispanic 0     0     1        0     Female\n",
       "  ⋯ sci_6 sci_7 soc_6 soc_7 oss_6 oss_7 frpl_6 frpl_7 enrl_6 enrl_7\n",
       "1 ⋯ 57    56    62    NA    0     0     0.34   0.35   412    399   \n",
       "2 ⋯ 53    53    87    NA    0     0     0.34   0.35   412    399   \n",
       "3 ⋯ 54    53    74    NA    0     0     0.34   0.35   412    399   \n",
       "4 ⋯ 51    51    84    NA    0     0     0.34   0.35   412    399   \n",
       "5 ⋯ 57    56    93    NA    0     0     0.34   0.35   412    399   \n",
       "6 ⋯ 57    58    57    NA    0     0     0.34   0.35   412    399   "
      ]
     },
     "metadata": {},
     "output_type": "display_data"
    }
   ],
   "source": [
    "# Read long and wide analysis files.\n",
    "# This loads the two datasets we created into the same namespaces.\n",
    "load(DTA)\n",
    "head(stu_sch_long)\n",
    "head(stu_sch_wide)"
   ]
  },
  {
   "cell_type": "code",
   "execution_count": 4,
   "metadata": {
    "vscode": {
     "languageId": "r"
    }
   },
   "outputs": [
    {
     "name": "stderr",
     "output_type": "stream",
     "text": [
      "Warning message:\n",
      "\"\u001b[1m\u001b[22mRemoved 16 rows containing missing values (`geom_point()`).\"\n"
     ]
    },
    {
     "data": {
      "image/png": "[encoded data removed]",
      "text/plain": [
       "plot without title"
      ]
     },
     "metadata": {
      "image/png": {
       "height": 420,
       "width": 420
      }
     },
     "output_type": "display_data"
    }
   ],
   "source": [
    "# Plot test scores by race.\n",
    "# Transform data so that each point on the plot is a separate row.\n",
    "stu_sch_long |>\n",
    "  select(stuid, grade, gender, race, math, ela) |>\n",
    "  filter(!is.na(gender)) |>\n",
    "  # Reshape long on test subject.\n",
    "  pivot_longer(\n",
    "    cols = c(math, ela),\n",
    "    names_to = \"test_subj\",\n",
    "    values_to = \"test_val\"\n",
    "  ) |>\n",
    "  # Reshape wide on grade.\n",
    "  pivot_wider(\n",
    "    names_from = grade,\n",
    "    names_prefix = \"grade_\",\n",
    "    values_from = test_val\n",
    "  ) |>\n",
    "  # Draw plot.\n",
    "  ggplot(aes(x = grade_6, y = grade_7, color = race)) +\n",
    "  geom_point() +\n",
    "  geom_abline() +\n",
    "  facet_wrap(\n",
    "    facets = vars(gender, test_subj),\n",
    "    labeller = labeller(test_subj = as_labeller(c(\n",
    "      \"math\" = \"Math\",\n",
    "      \"ela\" = \"English/Language Arts\"\n",
    "    )))\n",
    "  ) +\n",
    "  labs(\n",
    "    title = \"Math and ELA test score growth by gender and race\",\n",
    "    x = \"6th grade score\",\n",
    "    y = \"7th grade score\",\n",
    "    color = \"Race\"\n",
    "  ) +\n",
    "  theme_minimal()"
   ]
  },
  {
   "cell_type": "code",
   "execution_count": 5,
   "metadata": {
    "vscode": {
     "languageId": "r"
    }
   },
   "outputs": [
    {
     "name": "stderr",
     "output_type": "stream",
     "text": [
      "\u001b[1m\u001b[22mSaving 6.67 x 6.67 in image\n",
      "Warning message:\n",
      "\"\u001b[1m\u001b[22mRemoved 16 rows containing missing values (`geom_point()`).\"\n"
     ]
    }
   ],
   "source": [
    "# Save the figure.\n",
    "ggsave(FIG)"
   ]
  },
  {
   "cell_type": "code",
   "execution_count": 6,
   "metadata": {
    "vscode": {
     "languageId": "r"
    }
   },
   "outputs": [
    {
     "name": "stderr",
     "output_type": "stream",
     "text": [
      "\u001b[1m\u001b[22m`summarise()` has grouped output by 'grade'. You can override using the\n",
      "`.groups` argument.\n"
     ]
    },
    {
     "data": {
      "text/html": [
       "<table class=\"dataframe\">\n",
       "<caption>A grouped_df: 4 × 6</caption>\n",
       "<thead>\n",
       "\t<tr><th scope=col>grade</th><th scope=col>female</th><th scope=col>math</th><th scope=col>ela</th><th scope=col>sci</th><th scope=col>soc</th></tr>\n",
       "\t<tr><th scope=col>&lt;int&gt;</th><th scope=col>&lt;dbl&gt;</th><th scope=col>&lt;dbl&gt;</th><th scope=col>&lt;dbl&gt;</th><th scope=col>&lt;dbl&gt;</th><th scope=col>&lt;dbl&gt;</th></tr>\n",
       "</thead>\n",
       "<tbody>\n",
       "\t<tr><td>6</td><td>0</td><td>80.68421</td><td>81.33333</td><td>59.35088</td><td>80.38596</td></tr>\n",
       "\t<tr><td>6</td><td>1</td><td>71.58974</td><td>71.43590</td><td>55.66667</td><td>70.61538</td></tr>\n",
       "\t<tr><td>7</td><td>0</td><td>80.89474</td><td>80.05263</td><td>59.22807</td><td>     NaN</td></tr>\n",
       "\t<tr><td>7</td><td>1</td><td>71.51282</td><td>74.05128</td><td>55.64103</td><td>     NaN</td></tr>\n",
       "</tbody>\n",
       "</table>\n"
      ],
      "text/latex": [
       "A grouped\\_df: 4 × 6\n",
       "\\begin{tabular}{llllll}\n",
       " grade & female & math & ela & sci & soc\\\\\n",
       " <int> & <dbl> & <dbl> & <dbl> & <dbl> & <dbl>\\\\\n",
       "\\hline\n",
       "\t 6 & 0 & 80.68421 & 81.33333 & 59.35088 & 80.38596\\\\\n",
       "\t 6 & 1 & 71.58974 & 71.43590 & 55.66667 & 70.61538\\\\\n",
       "\t 7 & 0 & 80.89474 & 80.05263 & 59.22807 &      NaN\\\\\n",
       "\t 7 & 1 & 71.51282 & 74.05128 & 55.64103 &      NaN\\\\\n",
       "\\end{tabular}\n"
      ],
      "text/markdown": [
       "\n",
       "A grouped_df: 4 × 6\n",
       "\n",
       "| grade &lt;int&gt; | female &lt;dbl&gt; | math &lt;dbl&gt; | ela &lt;dbl&gt; | sci &lt;dbl&gt; | soc &lt;dbl&gt; |\n",
       "|---|---|---|---|---|---|\n",
       "| 6 | 0 | 80.68421 | 81.33333 | 59.35088 | 80.38596 |\n",
       "| 6 | 1 | 71.58974 | 71.43590 | 55.66667 | 70.61538 |\n",
       "| 7 | 0 | 80.89474 | 80.05263 | 59.22807 |      NaN |\n",
       "| 7 | 1 | 71.51282 | 74.05128 | 55.64103 |      NaN |\n",
       "\n"
      ],
      "text/plain": [
       "  grade female math     ela      sci      soc     \n",
       "1 6     0      80.68421 81.33333 59.35088 80.38596\n",
       "2 6     1      71.58974 71.43590 55.66667 70.61538\n",
       "3 7     0      80.89474 80.05263 59.22807      NaN\n",
       "4 7     1      71.51282 74.05128 55.64103      NaN"
      ]
     },
     "metadata": {},
     "output_type": "display_data"
    }
   ],
   "source": [
    "# Calculate unadjusted means by grade and gender.\n",
    "tab1 <- stu_sch_long |>\n",
    "  group_by(grade, female) |>\n",
    "  summarize(across(c(math, ela, sci, soc), ~ mean(.x, na.rm = TRUE)))\n",
    "tab1"
   ]
  },
  {
   "cell_type": "code",
   "execution_count": 7,
   "metadata": {
    "vscode": {
     "languageId": "r"
    }
   },
   "outputs": [
    {
     "data": {
      "text/plain": [
       "\n",
       "Call:\n",
       "lm(formula = math_7 ~ female + math_6, data = stu_sch_wide)\n",
       "\n",
       "Residuals:\n",
       "    Min      1Q  Median      3Q     Max \n",
       "-2.0445 -0.8300 -0.0238  0.4161  2.1228 \n",
       "\n",
       "Coefficients:\n",
       "             Estimate Std. Error t value Pr(>|t|)    \n",
       "(Intercept) -0.351400   0.618863  -0.568    0.572    \n",
       "female      -0.135056   0.206720  -0.653    0.515    \n",
       "math_6       1.004604   0.007542 133.204   <2e-16 ***\n",
       "---\n",
       "Signif. codes:  0 '***' 0.001 '**' 0.01 '*' 0.05 '.' 0.1 ' ' 1\n",
       "\n",
       "Residual standard error: 0.9224 on 89 degrees of freedom\n",
       "  (8 observations deleted due to missingness)\n",
       "Multiple R-squared:  0.9956,\tAdjusted R-squared:  0.9955 \n",
       "F-statistic:  9972 on 2 and 89 DF,  p-value: < 2.2e-16\n"
      ]
     },
     "metadata": {},
     "output_type": "display_data"
    }
   ],
   "source": [
    "# Estimate differences in math scores by gender, conditional on prior scores.\n",
    "# Growth among students classified as female decreased by 0.5 points on average.\n",
    "# Results are statistically different from zero at the 5% level.\n",
    "reg1 <- lm(math_7 ~ female + math_6, data = stu_sch_wide)\n",
    "summary(reg1)"
   ]
  },
  {
   "cell_type": "code",
   "execution_count": 8,
   "metadata": {
    "vscode": {
     "languageId": "r"
    }
   },
   "outputs": [
    {
     "data": {
      "text/plain": [
       "\n",
       "Call:\n",
       "lm(formula = ela_7 ~ race + ela_6, data = stu_sch_wide)\n",
       "\n",
       "Residuals:\n",
       "     Min       1Q   Median       3Q      Max \n",
       "-27.2865  -5.8714   0.3553   6.9878  19.9361 \n",
       "\n",
       "Coefficients:\n",
       "             Estimate Std. Error t value Pr(>|t|)    \n",
       "(Intercept)  28.41799    7.32532   3.879 0.000203 ***\n",
       "raceAsian     9.32850    5.50572   1.694 0.093780 .  \n",
       "raceBlack    -4.64987    2.82074  -1.648 0.102866    \n",
       "raceHispanic -2.85929    3.06495  -0.933 0.353454    \n",
       "ela_6         0.65728    0.08358   7.864 9.34e-12 ***\n",
       "---\n",
       "Signif. codes:  0 '***' 0.001 '**' 0.01 '*' 0.05 '.' 0.1 ' ' 1\n",
       "\n",
       "Residual standard error: 10.39 on 87 degrees of freedom\n",
       "  (8 observations deleted due to missingness)\n",
       "Multiple R-squared:  0.5427,\tAdjusted R-squared:  0.5217 \n",
       "F-statistic: 25.81 on 4 and 87 DF,  p-value: 4.073e-14\n"
      ]
     },
     "metadata": {},
     "output_type": "display_data"
    }
   ],
   "source": [
    "# Set the reference group in the race category to White.\n",
    "stu_sch_wide$race <- relevel(stu_sch_wide$race, ref = \"White\")\n",
    "\n",
    "# Estimate differences in ELA scores by race, conditional on prior scores.\n",
    "# Disparities in growth are not statistically different from zero.\n",
    "reg2 <- lm(ela_7 ~ race + ela_6, data = stu_sch_wide)\n",
    "summary(reg2)"
   ]
  },
  {
   "cell_type": "code",
   "execution_count": 9,
   "metadata": {
    "vscode": {
     "languageId": "r"
    }
   },
   "outputs": [],
   "source": [
    "# Collect regression output.\n",
    "regs <- list(\"math_female\" = reg1, \"ela_race\" = reg2) |>\n",
    "  lapply(tidy) |>\n",
    "  bind_rows(.id = \"model\")\n",
    "\n",
    "# Save tabulation and regression output to Excel.\n",
    "ws <- list(\"summaries\" = tab1, \"models\" = regs)\n",
    "write.xlsx(ws, OUT)"
   ]
  }
 ],
 "metadata": {
  "kernelspec": {
   "display_name": "R",
   "language": "R",
   "name": "ir"
  },
  "language_info": {
   "codemirror_mode": "r",
   "file_extension": ".r",
   "mimetype": "text/x-r-source",
   "name": "R",
   "pygments_lexer": "r",
   "version": "4.3.2"
  }
 },
 "nbformat": 4,
 "nbformat_minor": 2
}
